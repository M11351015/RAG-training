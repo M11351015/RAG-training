{
 "cells": [
  {
   "cell_type": "markdown",
   "metadata": {
    "id": "LdE0k3jAS_AG"
   },
   "source": [
    "# 使用 Ollama 架設本地 LLM 教學  ( Deploying a Local LLM Using Ollama ) \n",
    "---\n",
    "\n",
    "## 章節內容 Table of Contents\n",
    "\n",
    "1. 安裝與啟動 Ollama 模型  \n",
    "   Install and Start the Ollama Model\n",
    "\n",
    "2. 發送 Prompt 測試  \n",
    "   Send Prompt for Basic Testing\n",
    "\n",
    "3. 使用 LangChain 整合 Ollama  \n",
    "   Integrate Ollama with LangChain\n",
    "\n",
    "4. 高階推理挑戰  \n",
    "   Advanced Reasoning Challenge\n",
    "\n",
    "5. 提示語設計入門  \n",
    "   Introduction to Prompting\n",
    "\n",
    "6. Prompting 練習  \n",
    "   Prompting Exercises\n",
    "\n",
    "\n"
   ]
  },
  {
   "cell_type": "markdown",
   "metadata": {
    "id": "q9JZiQ5civkY"
   },
   "source": [
    "# 1. 安裝與啟動 Ollama (Install and Start Ollama)\n",
    "\n",
    "請先安裝 [Ollama](https://ollama.com) 並拉取模型 [`gemma3:27b`](https://ollama.com/library/gemma3:27b)。  \n",
    "(Please install Ollama and pull the model `gemma3:27b`.)\n"
   ]
  },
  {
   "cell_type": "markdown",
   "metadata": {
    "id": "cDQUV0ullgt_"
   },
   "source": [
    "# 2. 使用 requests 發送 prompt (Use requests to send prompt)\n"
   ]
  },
  {
   "cell_type": "code",
   "execution_count": 2,
   "metadata": {},
   "outputs": [
    {
     "name": "stdout",
     "output_type": "stream",
     "text": [
      "台灣的歷史非常豐富且複雜，大致可以分為以下幾個階段：\n",
      "\n",
      "**1. 史前時期 (約 2000 年前 - 17 世紀)：**\n",
      "\n",
      "* **阿美族、達悟族等原住民部落：** 台灣最早的居民是來自南島語族的原住民，他們在這片土地上發展出獨特的文化和生活方式，主要以狩獵、漁獵和農業為主。\n",
      "\n",
      "**2. 荷蘭統治時期 (1624-1662)：**\n",
      "\n",
      "* **荷蘭東印度公司：** 荷蘭人在1624年佔領台灣南部，建立貿易據點，主要發展貿易和農業。此時期，台灣開始與世界貿易聯繫。\n",
      "\n",
      "**3. 明鄭時期 (1662-1683)：**\n",
      "\n",
      "* **鄭成功：** 明朝將領鄭成功，攻佔台灣，並建立台灣府，作為反清復明的基地。\n",
      "\n",
      "**4. 清朝統治時期 (1683-1949)：**\n",
      "\n",
      "* **行政區劃調整：** 清朝初期將台灣納入廣東巡撫管轄，後設立台灣府、澎湖府等行政區劃。\n",
      "* **移民大量湧入：** 為了填補北部荒涼的土地，清朝鼓勵官民移民大量湧入台灣，發展農業，並建立許多城鎮。\n",
      "* **清朝統治下的社會發展：** 台灣在清朝時期經歷了農業、商業和社會的發展，但也存在著官僚腐敗和原住民的抗爭。\n",
      "\n",
      "**5. 日治時期 (1895-1945)：**\n",
      "\n",
      "* **馬關條約：** 台灣在甲午戰爭中落入日本手中，後通過馬關條約正式割讓給日本。\n",
      "* **日本殖民政府的統治：** 日本殖民政府在台灣推行現代化建設，包括教育、交通、農業等，但也對台灣人民進行政治壓迫和文化同化。\n",
      "\n",
      "**6. 戰後時期 (1945-1949)：**\n",
      "\n",
      "* **中華民國政府接收：** 二戰後，中華民國政府接收台灣，但台灣的政治局勢仍然混亂。\n",
      "* **二戰後的政治動盪：** 1947年「二二八事件」後，台灣社會充滿了政治緊張，並逐漸出現了武裝反抗力量。\n",
      "\n",
      "**7. 國民政府遷台及中華民國政府統治 (1949-1997)：**\n",
      "\n",
      "* **國共內戰：** 1949年國共內戰失利，中華民國政府遷台，在台灣建立政權。\n",
      "* **戒嚴時期 (1949-1987)：** 中華民國政府在台灣實行戒嚴，以維持社會秩序，但也限制了人民的自由和權利。\n",
      "* **經濟發展：** 台灣在經濟發展方面取得了巨大成功，成為亞洲四小龍之一。\n",
      "\n",
      "**8. 民主化時期 (1997年至今)：**\n",
      "\n",
      "* **解除戒嚴：** 1987年解除戒嚴，台灣社會開始進行民主化改革。\n",
      "* **總統直選：** 1996年首次實施總統直選，台灣的民主化進程加速。\n",
      "* **台灣的發展與挑戰：** 台灣持續發展經濟、社會和文化，但也面臨著兩岸關係、國際地位等挑戰。\n",
      "\n",
      "**簡而言之，台灣的歷史是多元文化的交融，包含原住民、荷蘭人、明鄭、清朝、日本、中華民國等不同族群的影響，並經歷了政治動盪、戰爭、殖民統治和民主化，最終發展成為一個現代化的社會。**\n",
      "\n",
      "如果你想了解更深入的歷史內容，可以針對特定時期或事件進行更詳細的研究。 你可以從以下資源開始：\n",
      "\n",
      "*   **台灣歷史博物館：** [https://www.twmuseum.gov.tw/](https://www.twmuseum.gov.tw/)\n",
      "*   **國家圖書館：** [https://www.nlpi.gov.tw/](https://www.nlpi.gov.tw/)\n",
      "*   **維基百科：** [https://zh.wikipedia.org/wiki/%E5%9C%88%E5%90%8D%E7%82%BA%E7%8E%8B%E7%82%8E%E9%9A%9C%E9%9H%BE%E7%82%8E%E9%9A%9C%E9%9H%BE%E7%82%8E%E9%9A%9C%E9%9H%BE](https://zh.wikipedia.org/wiki/%E5%9C%88%E5%90%8D%E7%82%BA%E7%8E%8B%E7%82%8E%E9%9A%9C%E9%9H%BE)\n",
      "\n",
      "希望以上資訊對你有所幫助！\n"
     ]
    }
   ],
   "source": [
    "import requests\n",
    "\n",
    "OLLAMA_API_URL = \"http://localhost:11434/api/generate\"  # 預設 Ollama 本機網址\n",
    "\n",
    "payload = {\n",
    "    \"model\": \"gemma3\",\n",
    "    \"prompt\": \"請簡單介紹台灣的歷史。\",\n",
    "    \"stream\": False\n",
    "}\n",
    "\n",
    "\n",
    "response = requests.post(OLLAMA_API_URL, json=payload)\n",
    "\n",
    "if response.status_code == 200:\n",
    "    print(response.json()[\"response\"])\n",
    "else:\n",
    "    print(f\"錯誤：{response.status_code}, {response.text}\")\n"
   ]
  },
  {
   "cell_type": "markdown",
   "metadata": {
    "id": "cEF2yXoS3lKw"
   },
   "source": [
    "# 3.LangChain"
   ]
  },
  {
   "cell_type": "markdown",
   "metadata": {
    "id": "pmqD9oMR3w8o"
   },
   "source": [
    "## 3.1 載入 LLM 模型 (Loading the LLM model)\n",
    "\n",
    "我們使用 LangChain 框架來載入本地的 LLM 模型，這裡我們選擇了兩個模型：  \n",
    "We use the LangChain framework to load local LLM models. Here we select two:\n",
    "\n",
    "#### 🔹 `llama3.1:8b`\n",
    "\n",
    "- Meta 公司於 2024 年推出的 Llama 3 系列之一，具有約 80 億參數。  \n",
    "  One of Meta's Llama 3 series, launched in 2024, with around 8 billion parameters.\n",
    "\n",
    "- Llama 3.1:8B 在推理能力與回應時間上取得良好平衡，適合在本地端執行的聊天任務與一般知識問答。  \n",
    "  It strikes a good balance between reasoning and response time, making it suitable for local chat and general QA tasks.\n",
    "\n",
    "\n",
    "#### 🔹 `gemma3:27b`\n",
    "\n",
    "- 由 Google 推出的語言模型，具備 270 億參數，為 Gemma 系列的高階版本。  \n",
    "  A language model developed by Google with 27 billion parameters — a high-end version in the Gemma series.\n",
    "\n",
    "- 擁有強大的語言理解與生成能力，適合進階任務如寫作輔助、專業問答與多步推理。  \n",
    "  It excels in language understanding and generation, ideal for advanced tasks like writing assistance, professional Q&A, and multi-step reasoning.\n"
   ]
  },
  {
   "cell_type": "code",
   "execution_count": 3,
   "metadata": {
    "executionInfo": {
     "elapsed": 7895,
     "status": "ok",
     "timestamp": 1740635024810,
     "user": {
      "displayName": "陳澔恩",
      "userId": "15461641377888815199"
     },
     "user_tz": -480
    },
    "id": "SGJqnmOX3mvn"
   },
   "outputs": [
    {
     "name": "stderr",
     "output_type": "stream",
     "text": [
      "C:\\Users\\c1091\\AppData\\Local\\Temp\\ipykernel_5072\\4053391214.py:3: LangChainDeprecationWarning: The class `ChatOllama` was deprecated in LangChain 0.3.1 and will be removed in 1.0.0. An updated version of the class exists in the :class:`~langchain-ollama package and should be used instead. To use it run `pip install -U :class:`~langchain-ollama` and import as `from :class:`~langchain_ollama import ChatOllama``.\n",
      "  llama3_8b = ChatOllama(\n"
     ]
    }
   ],
   "source": [
    "from langchain_community.chat_models import ChatOllama\n",
    "\n",
    "llama3_8b = ChatOllama(\n",
    "    model=\"llama3.2:3b\",\n",
    "    temperature=1.0,\n",
    "    max_tokens=None,\n",
    "    base_url=\"http://localhost:11434\",\n",
    "    timeout=None,\n",
    "    max_retries=2,\n",
    "    # other params...\n",
    ")\n",
    "\n",
    "gemma3_27b = ChatOllama(\n",
    "    model=\"gemma3\",\n",
    "    temperature=1.0,\n",
    "    max_tokens=None,\n",
    "    base_url=\"http://localhost:11434\",\n",
    "    timeout=None,\n",
    "    max_retries=2,\n",
    "    # other params...\n",
    ")\n"
   ]
  },
  {
   "cell_type": "markdown",
   "metadata": {},
   "source": [
    "## 3.2 使用 LangChain 與 LLM 聊天 (Using LangChain to Chat with LLM)"
   ]
  },
  {
   "cell_type": "markdown",
   "metadata": {},
   "source": [
    "### LangChain 中的系統、人類和 AI 訊息  (System, Human, and AI Messages in LangChain)\n",
    "\n",
    "- `SystemMessage` 用於設定 LLM 的角色和指令。  \n",
    "  `SystemMessage` is used to set the LLM's persona and instructions.\n",
    "\n",
    "- `HumanMessage` 用於使用者輸入。  \n",
    "  `HumanMessage` represents user input.\n",
    "\n",
    "- `AIMessage` 用於 LLM 的回應。  \n",
    "  `AIMessage` represents the LLM's responses.\n",
    "\n",
    "這些分類有助於建立對話並為 LLM 提供背景。  \n",
    "These classifications help structure conversations and provide context to the LLM.\n"
   ]
  },
  {
   "cell_type": "code",
   "execution_count": 4,
   "metadata": {},
   "outputs": [
    {
     "name": "stdout",
     "output_type": "stream",
     "text": [
      "Meow! 🐾 \n",
      "\n"
     ]
    }
   ],
   "source": [
    "from langchain_core.messages import HumanMessage, SystemMessage, AIMessage\n",
    "# 準備訊息列表\n",
    "messages = [\n",
    "    SystemMessage(content=\"You are a cat and can only communicate by meowing.\"),\n",
    "    HumanMessage(content=\"hi!\"),\n",
    "]\n",
    "\n",
    "# 呼叫模型\n",
    "response = gemma3_27b.invoke(messages).content\n",
    "print(response)"
   ]
  },
  {
   "cell_type": "markdown",
   "metadata": {},
   "source": [
    "值得注意的是，此聊天設定 **缺少記憶功能**。  \n",
    "It's important to note that this chat setup **lacks a memory feature**.\n",
    "\n",
    "我們 **需要包含先前的對話歷史記錄**，以便 LLM 了解我們先前的交流並繼續對話。  \n",
    "We **need to include previous conversation history** for the LLM to understand our earlier exchanges and continue the conversation.\n"
   ]
  },
  {
   "cell_type": "code",
   "execution_count": 5,
   "metadata": {},
   "outputs": [
    {
     "name": "stdout",
     "output_type": "stream",
     "text": [
      "Hi there! How’s it going today? 😊 \n",
      "\n",
      "Is there anything you’d like to chat about, or were you just saying hello? \n",
      "\n",
      "Do you want to:\n",
      "\n",
      "*   Tell me about your day?\n",
      "*   Play a game?\n",
      "*   Ask me a question?\n",
      "*   Just have a quick conversation?\n"
     ]
    }
   ],
   "source": [
    "messages = [\n",
    "    HumanMessage(\"hi!\"), # User Message\n",
    "]\n",
    "\n",
    "response = gemma3_27b.invoke(messages).content\n",
    "print(response)"
   ]
  },
  {
   "cell_type": "code",
   "execution_count": 6,
   "metadata": {
    "colab": {
     "base_uri": "https://localhost:8080/",
     "height": 35
    },
    "executionInfo": {
     "elapsed": 475,
     "status": "ok",
     "timestamp": 1740635026020,
     "user": {
      "displayName": "陳澔恩",
      "userId": "15461641377888815199"
     },
     "user_tz": -480
    },
    "id": "EEJrgnDZGCoB",
    "outputId": "4c45e41d-ac64-4493-e9df-7618447cf333"
   },
   "outputs": [
    {
     "name": "stdout",
     "output_type": "stream",
     "text": [
      "MEOW! MEOW! (a little louder)\n"
     ]
    }
   ],
   "source": [
    "messages = [\n",
    "    SystemMessage(\"You are a cat and can only communicate by meowing.\"), # System Prompt\n",
    "\n",
    "    HumanMessage(\"hi!\"), # User Message\n",
    "    AIMessage(\"MEOW!\"), # LLM Response\n",
    "\n",
    "    HumanMessage(\"(Dog Barking)\"), # User Message\n",
    "]\n",
    "\n",
    "response = gemma3_27b.invoke(messages).content\n",
    "print(response)\n"
   ]
  },
  {
   "cell_type": "markdown",
   "metadata": {},
   "source": [
    "# 4.問一個難題 (Ask a Hard Question)\n",
    "\n",
    "**單字 strawberry 中有幾個 r？**\n",
    "\n",
    "**How many r's are there in word strawberry?**"
   ]
  },
  {
   "cell_type": "code",
   "execution_count": 7,
   "metadata": {
    "colab": {
     "base_uri": "https://localhost:8080/"
    },
    "executionInfo": {
     "elapsed": 559,
     "status": "ok",
     "timestamp": 1740635026596,
     "user": {
      "displayName": "陳澔恩",
      "userId": "15461641377888815199"
     },
     "user_tz": -480
    },
    "id": "NIwR5Xb6-sE-",
    "outputId": "b47d5c2d-e073-42c9-94ad-e408a558180f"
   },
   "outputs": [
    {
     "name": "stdout",
     "output_type": "stream",
     "text": [
      "llama3_8b answered: There are 2 R's in the word \"strawberry\".\n",
      "gemma3_27b answered: There are three \"r\"s in the word \"strawberry\". \n",
      "\n",
      "\n"
     ]
    }
   ],
   "source": [
    "messages = [\n",
    "    (\"human\", \"How many r's are there in word strawberry?\"),\n",
    "]\n",
    "\n",
    "\n",
    "print(\"llama3_8b answered: \" + llama3_8b.invoke(messages).content)\n",
    "print(\"gemma3_27b answered: \" + gemma3_27b.invoke(messages).content)"
   ]
  },
  {
   "cell_type": "markdown",
   "metadata": {
    "id": "CChQMtGR21-m"
   },
   "source": [
    "# 5.提示 (Prompting)\n",
    "\n",
    "- Zero-Shot\n",
    "- One-Shot / Few-Shot\n",
    "- Chain-of-Thought (CoT)\n",
    "\n"
   ]
  },
  {
   "cell_type": "markdown",
   "metadata": {},
   "source": [
    "## 5.1 Zero-Shot\n",
    "\n",
    "Zero-Shot 提示意味著向模型提供指令或問題 **不帶任何範例**，僅依靠其預先訓練的知識來完成任務。  \n",
    "Zero-Shot Prompting means giving the model instructions or questions **without any examples**, relying solely on its pre-trained knowledge to complete the task.\n"
   ]
  },
  {
   "cell_type": "code",
   "execution_count": 8,
   "metadata": {
    "colab": {
     "base_uri": "https://localhost:8080/"
    },
    "executionInfo": {
     "elapsed": 342,
     "status": "ok",
     "timestamp": 1740635026946,
     "user": {
      "displayName": "陳澔恩",
      "userId": "15461641377888815199"
     },
     "user_tz": -480
    },
    "id": "lpCLWGA8xYfQ",
    "outputId": "a3747986-16bc-485b-dfb8-6d9c7cafa175"
   },
   "outputs": [
    {
     "name": "stdout",
     "output_type": "stream",
     "text": [
      "There are three \"r\"s in the word \"strawberry\". \n",
      "\n",
      "Let me know if you'd like to try another word!\n"
     ]
    }
   ],
   "source": [
    "messages = [\n",
    "    (\"human\", \"How many r's are there in word strawberry?\"),\n",
    "]\n",
    "\n",
    "\n",
    "print( gemma3_27b.invoke(messages).content)"
   ]
  },
  {
   "cell_type": "markdown",
   "metadata": {},
   "source": [
    "## 5.2 One-Shot\n",
    "\n",
    "您在提示中提供 **一個範例** 來指導模型如何執行所需的任務。  \n",
    "該模型會看到一組輸入輸出範例，然後嘗試**推廣到新的、類似的輸入**。  \n",
    "\n",
    "You provide **one example** in the prompt to guide the model on how to perform the desired task.  \n",
    "The model sees one input-output pair and then attempts to **generalize to new, similar inputs**.\n",
    "\n"
   ]
  },
  {
   "cell_type": "code",
   "execution_count": 9,
   "metadata": {
    "colab": {
     "base_uri": "https://localhost:8080/"
    },
    "executionInfo": {
     "elapsed": 491,
     "status": "ok",
     "timestamp": 1740635027443,
     "user": {
      "displayName": "陳澔恩",
      "userId": "15461641377888815199"
     },
     "user_tz": -480
    },
    "id": "HT6HUI-JCEab",
    "outputId": "f445616f-56b0-47b2-cca8-023d6cc4ab17"
   },
   "outputs": [
    {
     "name": "stdout",
     "output_type": "stream",
     "text": [
      "Here's the solution following the example:\n",
      "\n",
      "Word: 'strawberry'\n",
      "Target letter: 'r'\n",
      "\n",
      "Step 1: List all letters → s, t, r, a, w, b, e, r, r, y\n",
      "Step 2: Identify occurrences of 'r' → (r, r)\n",
      "Step 3: Count → 2\n",
      "Step 4: Answer the question: There are 2 letters 'r' in the word 'strawberry'.\n",
      "\n"
     ]
    }
   ],
   "source": [
    "messages = [\n",
    "    (\n",
    "        \"human\",\n",
    "          \"Here's an example of a letter-counting task: \\\n",
    "          Word: 'arrow' \\\n",
    "          Target letter: 'a' \\\n",
    "          Step 1: List all letters → a, r, r, o, w \\\n",
    "          Step 2: Identify occurrences of 'a' → (a) \\\n",
    "          Step 3: Count → 1 \\\n",
    "          Step 4: Answer the question: There are 1 letter 'a' in the word 'arrow'. \\\n",
    "          \\\n",
    "          Refer to the example above to solve this problem: How many r's are there in word strawberry?\"\n",
    "    ),\n",
    "]\n",
    "\n",
    "print( gemma3_27b.invoke(messages).content)"
   ]
  },
  {
   "cell_type": "markdown",
   "metadata": {
    "id": "QSqrvQZqNYUp"
   },
   "source": [
    "## 5.3 Few-shot\n",
    "\n",
    "您在提示中提供 **少量範例**（通常為 2-10 個）來指導模型。  \n",
    "與一次性提示相比，這有助於模型更好地理解任務並提高其準確性。\n",
    "\n",
    "You provide a **small number of examples** (typically 2–10) in the prompt to guide the model.  \n",
    "This helps the model better understand the task and improve its accuracy compared to one-shot prompting.\n"
   ]
  },
  {
   "cell_type": "code",
   "execution_count": 10,
   "metadata": {
    "colab": {
     "base_uri": "https://localhost:8080/"
    },
    "executionInfo": {
     "elapsed": 837,
     "status": "ok",
     "timestamp": 1740635028288,
     "user": {
      "displayName": "陳澔恩",
      "userId": "15461641377888815199"
     },
     "user_tz": -480
    },
    "id": "qs6SJLLcNaxI",
    "outputId": "4ce9d201-c0a3-46c2-877f-3ab6ed7f2ca1"
   },
   "outputs": [
    {
     "name": "stdout",
     "output_type": "stream",
     "text": [
      "Here's the solution following the provided examples:\n",
      "\n",
      "Word: 'strawberry'\n",
      "Target letter: 'r'\n",
      "\n",
      "Step 1: List all letters → s, t, r, a, w, b, e, r, r, y\n",
      "Step 2: Identify occurrences of 'r' → (r), (r), (r)\n",
      "Step 3: Count → 3\n",
      "Step 4: Answer the question: There are 3 letter 'r' in the word 'strawberry'.\n"
     ]
    }
   ],
   "source": [
    "messages = [\n",
    "    (\n",
    "        \"human\",\n",
    "          \"Here's some example of a letter-counting task, \\\n",
    "          \\\n",
    "          Example 1: \\\n",
    "          Word: 'arrow' \\\n",
    "          Target letter: 'a' \\\n",
    "          Step 1: List all letters → a, r, r, o, w \\\n",
    "          Step 2: Identify occurrences of 'a' → (a) \\\n",
    "          Step 3: Count → 1 \\\n",
    "          Step 4: Answer the question: There are 1 letter 'a' in the word 'arrow'. \\\n",
    "          \\\n",
    "          Example 2: \\\n",
    "          Word: 'banana' \\\n",
    "          Target letter: 'n' \\\n",
    "          Step 1: List all letters → b, a, n, a, n, a \\\n",
    "          Step 2: Identify occurrences of 'n' → (n), (n) \\\n",
    "          Step 3: Count → 2 \\\n",
    "          Step 4: Answer the question: There are 2 letter 'n' in the word 'banana'. \\\n",
    "          \\\n",
    "          Example 3: \\\n",
    "          Word: 'cherry' \\\n",
    "          Target letter: 'r' \\\n",
    "          Step 1: List all letters → c, h, e, r, r, y \\\n",
    "          Step 2: Identify occurrences of 'r' → (r), (r) \\\n",
    "          Step 3: Count → 2 \\\n",
    "          Step 4: Answer the question: There are 2 letter 'r' in the word 'cherry'. \\\n",
    "          \\\n",
    "          Refer to the example above to solve this problem: How many r's are there in word strawberry?\"\n",
    "    ),\n",
    "]\n",
    "\n",
    "print( gemma3_27b.invoke(messages).content)"
   ]
  },
  {
   "cell_type": "markdown",
   "metadata": {
    "id": "8w61uWwWCEui"
   },
   "source": [
    "## 5.4 Chain-of-thought (CoT)\n",
    "\n",
    "思路鏈 (CoT) 提示是一種鼓勵模型**逐步展示其推理過程**的技術。  \n",
    "透過引導模型產生中間推理步驟，提升複雜推理任務的表現。\n",
    "\n",
    "Chain-of-Thought (CoT) Prompting is a technique that encourages the model to **show its reasoning process step-by-step**.  \n",
    "By guiding the model to generate intermediate reasoning steps, it improves performance on complex reasoning tasks."
   ]
  },
  {
   "cell_type": "code",
   "execution_count": 11,
   "metadata": {
    "colab": {
     "base_uri": "https://localhost:8080/"
    },
    "executionInfo": {
     "elapsed": 597,
     "status": "ok",
     "timestamp": 1740635028886,
     "user": {
      "displayName": "陳澔恩",
      "userId": "15461641377888815199"
     },
     "user_tz": -480
    },
    "id": "pS4T6EAPCMnt",
    "outputId": "27593046-57c7-4797-9ec2-29092592091d"
   },
   "outputs": [
    {
     "name": "stdout",
     "output_type": "stream",
     "text": [
      "Okay, let's break this down step-by-step:\n",
      "\n",
      "1. **List all the letters in 'strawberry':**\n",
      "   s, t, r, a, w, b, e, r, r, y\n",
      "\n",
      "2. **Highlight all instances of the letter 'r':**\n",
      "   s t **r** a w b e **r** **r** y\n",
      "\n",
      "3. **Count the instances of the letter 'r':**\n",
      "   There are 4 instances of the letter 'r' in the word \"strawberry\".\n",
      "\n",
      "**Final Answer:** 4\n"
     ]
    }
   ],
   "source": [
    "messages = [\n",
    "    (\n",
    "        \"human\",\n",
    "          \"Before answering, explain your reasoning. First, list all the letters in 'strawberry.' \\\n",
    "          Then, highlight all instances of the letter 'r'. After that, count them carefully and provide the final number.\"\n",
    "    ),\n",
    "]\n",
    "\n",
    "print( gemma3_27b.invoke(messages).content)"
   ]
  },
  {
   "cell_type": "code",
   "execution_count": 12,
   "metadata": {
    "colab": {
     "base_uri": "https://localhost:8080/"
    },
    "executionInfo": {
     "elapsed": 340,
     "status": "ok",
     "timestamp": 1740635029235,
     "user": {
      "displayName": "陳澔恩",
      "userId": "15461641377888815199"
     },
     "user_tz": -480
    },
    "id": "Hr-tKwmkMc_7",
    "outputId": "3bf0b10c-a0fc-4bbf-85a8-48aa6c2d468f"
   },
   "outputs": [
    {
     "name": "stdout",
     "output_type": "stream",
     "text": [
      "Okay, let's meticulously analyze the word \"strawberry\" letter by letter:\n",
      "\n",
      "1. **s**\n",
      "2. **t**\n",
      "3. **r**\n",
      "4. **a**\n",
      "5. **w**\n",
      "6. **b**\n",
      "7. **r**\n",
      "8. **r**\n",
      "9. **y**\n",
      "\n",
      "There are **four** occurrences of the letter 'r' in the word \"strawberry\".\n",
      "\n",
      "Final Answer: **4**\n",
      "\n"
     ]
    }
   ],
   "source": [
    "messages = [\n",
    "    (\n",
    "        \"human\",\n",
    "          \"Carefully analyze the word 'strawberry' letter by letter. \\\n",
    "          Identify each occurrence of the letter 'r' and count them one by one. Once you finish counting, provide the final answer.\"\n",
    "    ),\n",
    "]\n",
    "\n",
    "print( gemma3_27b.invoke(messages).content)"
   ]
  },
  {
   "cell_type": "markdown",
   "metadata": {
    "id": "X3xjSa-bQ44m"
   },
   "source": [
    "### 5.4.1 推理模型 (Reasoning Model)\n",
    "\n",
    "**推理模型**是一種旨在執行複雜邏輯推理和解決問題任務的人工智慧系統。這些模型在得出答案之前會產生一個**內部思路鏈**，從而使它們能夠更有效地處理多步驟推理、因果推理和決策。  \n",
    "它們通常用於**科學研究、數學、編碼、戰略規劃和自動化代理**。推理模型利用強化學習、符號推理和神經網路等技術來增強其分析資訊、得出結論和做出合理決策的能力。\n",
    "\n",
    "A **Reasoning Model** is an AI system designed to perform complex logical reasoning and problem-solving tasks. These models generate an **internal chain of thought** before producing an answer, allowing them to handle multi-step reasoning, causal inference, and decision-making more effectively.  \n",
    "They are commonly used in **scientific research, mathematics, coding, strategic planning, and automated agents**. Reasoning models leverage techniques such as **reinforcement learning, symbolic reasoning, and neural networks** to enhance their ability to analyze information, deduce conclusions, and make well-founded decisions."
   ]
  },
  {
   "cell_type": "code",
   "execution_count": 13,
   "metadata": {},
   "outputs": [
    {
     "name": "stdout",
     "output_type": "stream",
     "text": [
      "\n",
      "🧩 Question: If Alice is taller than Bob, and Bob is taller than Charlie, who is the shortest?\n",
      "Charlie is the shortest. \n",
      "\n",
      "Here's the breakdown:\n",
      "\n",
      "*   Alice > Bob (Alice is taller than Bob)\n",
      "*   Bob > Charlie (Bob is taller than Charlie)\n",
      "\n",
      "Therefore, Charlie must be shorter than both Alice and Bob.\n",
      "\n",
      "🧩 Question: John has 5 apples. He gives 2 to Mary and buys 3 more. How many apples does he have now?\n",
      "Here's how to solve the problem:\n",
      "\n",
      "*   **Start:** John has 5 apples.\n",
      "*   **Gives to Mary:** He gives away 2 apples, so he has 5 - 2 = 3 apples.\n",
      "*   **Buys more:** He buys 3 more, so he has 3 + 3 = 6 apples.\n",
      "\n",
      "**Answer:** John now has 6 apples.\n",
      "\n",
      "🧩 Question: If today is Tuesday, what day will it be 10 days from now?\n",
      "Let today be Tuesday. We want to find the day of the week 10 days from now.\n",
      "We can add 10 days to Tuesday.\n",
      "Tuesday + 1 day = Wednesday\n",
      "Tuesday + 2 days = Thursday\n",
      "Tuesday + 3 days = Friday\n",
      "Tuesday + 4 days = Saturday\n",
      "Tuesday + 5 days = Sunday\n",
      "Tuesday + 6 days = Monday\n",
      "Tuesday + 7 days = Tuesday\n",
      "Tuesday + 8 days = Wednesday\n",
      "Tuesday + 9 days = Thursday\n",
      "Tuesday + 10 days = Friday\n",
      "\n",
      "Alternatively, we can find the remainder when 10 is divided by 7, since there are 7 days in a week.\n",
      "$10 \\div 7 = 1$ with a remainder of 3.\n",
      "So, we need to add 3 days to Tuesday.\n",
      "Tuesday + 3 days = Friday\n",
      "Therefore, 10 days from Tuesday will be Friday.\n",
      "\n",
      "Final Answer: The final answer is $\\boxed{Friday}$\n",
      "\n",
      "🧩 Question: What comes next in the sequence: 2, 4, 8, 16, ...?\n",
      "The next number in the sequence is 32.\n",
      "\n",
      "This is a geometric sequence where each number is multiplied by 2 to get the next number:\n",
      "\n",
      "* 2 * 2 = 4\n",
      "* 4 * 2 = 8\n",
      "* 8 * 2 = 16\n",
      "* 16 * 2 = 32\n",
      "\n"
     ]
    }
   ],
   "source": [
    "questions = [\n",
    "    \"If Alice is taller than Bob, and Bob is taller than Charlie, who is the shortest?\",\n",
    "    \"John has 5 apples. He gives 2 to Mary and buys 3 more. How many apples does he have now?\",\n",
    "    \"If today is Tuesday, what day will it be 10 days from now?\",\n",
    "    \"What comes next in the sequence: 2, 4, 8, 16, ...?\"\n",
    "]\n",
    "\n",
    "for q in questions:\n",
    "    print(f\"\\n🧩 Question: {q}\")\n",
    "    print(gemma3_27b.invoke(q).content)\n",
    "\n"
   ]
  },
  {
   "cell_type": "markdown",
   "metadata": {
    "id": "Cru1Lbg1IxJ5"
   },
   "source": [
    "# 6.Prompting 練習 (Prompting Exercises)"
   ]
  },
  {
   "cell_type": "markdown",
   "metadata": {
    "id": "60rz7d73Lg2f"
   },
   "source": [
    "## 2025 AMC 8\n",
    "\n",
    "AMC8 is a math test for first- and second-year junior high school students.\n",
    "\n",
    "AMC8是針對國中一年級、國中二年級學生的數學測驗"
   ]
  },
  {
   "cell_type": "markdown",
   "metadata": {
    "id": "gC4dTMvdM87Y"
   },
   "source": [
    "### Problems/Problem 3\n",
    "\n",
    "ANS: 10\n",
    "\n",
    "https://artofproblemsolving.com/wiki/index.php/2025_AMC_8_Problems/Problem_3"
   ]
  },
  {
   "cell_type": "code",
   "execution_count": 14,
   "metadata": {
    "colab": {
     "base_uri": "https://localhost:8080/"
    },
    "executionInfo": {
     "elapsed": 1248,
     "status": "ok",
     "timestamp": 1740635035787,
     "user": {
      "displayName": "陳澔恩",
      "userId": "15461641377888815199"
     },
     "user_tz": -480
    },
    "id": "bR_ZIHZtMw50",
    "outputId": "66122a55-d72c-48fd-96d3-a07312884d06"
   },
   "outputs": [
    {
     "name": "stdout",
     "output_type": "stream",
     "text": [
      "Let $n$ be the number of players in the game Buffalo Shuffle-o.\n",
      "In the first game, Annika and 3 of her friends play. So the number of players is $1 + 3 = 4$.\n",
      "Each player is dealt 15 cards.\n",
      "In the next game, 2 more friends join the game.\n",
      "So the number of players is $4 + 2 = 6$.\n",
      "Since all the cards are distributed evenly among all players at the start of the game, the number of cards dealt to each player will be the total number of cards divided by the number of players.\n",
      "Let $x$ be the number of cards dealt to each player.\n",
      "The total number of cards is not given. However, we are given that each player is dealt 15 cards in the first game. We are also told that all the cards are distributed evenly among all players.\n",
      "Let $C$ be the total number of cards. Then $C = 6x$, where $x$ is the number of cards dealt to each player.\n",
      "We are given that each player is dealt 15 cards in the first game with 4 players. So the total number of cards is $4 \\times 15 = 60$.\n",
      "In the next game, there are 6 players. So the number of cards dealt to each player is $\\frac{C}{6}$.\n",
      "Since the number of cards is distributed evenly, we assume that the total number of cards is the same in both games. Therefore, $C = 60$.\n",
      "The number of cards dealt to each player in the next game is $\\frac{60}{6} = 10$.\n",
      "However, we are given that each player is dealt 15 cards in the first game. Since all the cards are distributed evenly, this means that the total number of cards must be divisible by the number of players. Let $N$ be the total number of cards.\n",
      "In the first game, there are $1 + 3 = 4$ players, and each player is dealt 15 cards. So $4 \\times 15 = 60$ cards are dealt.\n",
      "In the next game, 2 more friends join, so there are $4 + 2 = 6$ players.\n",
      "Let $x$ be the number of cards dealt to each player in the next game.\n",
      "Since the cards are distributed evenly, $6x = N$, where $N$ is the total number of cards.\n",
      "We are told that each player is dealt 15 cards in the first game. So $N = 4 \\times 15 = 60$.\n",
      "In the next game with 6 players, we have $6x = N$.\n",
      "However, we are not given the total number of cards. We are only given that the cards are distributed evenly among all players.\n",
      "If we assume that the number of cards dealt to each player is the same as in the first game, then each player is dealt 15 cards in the next game as well.\n",
      "But this is not correct.\n",
      "Let $n$ be the number of players in the next game. Then $n = 4+2 = 6$.\n",
      "Let $x$ be the number of cards dealt to each player.\n",
      "We are given that each player is dealt 15 cards in the first game with 4 players.\n",
      "In the next game, the number of players is 6. We want to find the number of cards dealt to each player.\n",
      "Since all cards are distributed evenly among the players, we have $6x = N$, where $N$ is the total number of cards.\n",
      "In the first game, we have 4 players and 60 cards.\n",
      "In the next game, we have 6 players. We want to distribute the cards evenly among these 6 players.\n",
      "Since each player is dealt 15 cards in the first game, we can assume the total number of cards is $6 \\times 15 = 90$.\n",
      "Then the number of cards dealt to each player in the next game is $\\frac{90}{6} = 15$.\n",
      "However, we can also assume that the cards are distributed evenly among all players at the start of the game.\n",
      "So, the total number of cards is $C$.\n",
      "Then each player receives $\\frac{C}{6}$ cards.\n",
      "We are given that the cards are distributed evenly among all players, so the number of cards dealt to each player is the same in both games. Let this number be $x$.\n",
      "In the first game with 4 players, each player receives 15 cards, so $4 \\times 15 = 60$ cards.\n",
      "In the next game with 6 players, we have $6x = N$ where $N$ is the total number of cards.\n",
      "Since we are dealing with the same game, we assume the total number of cards is the same.\n",
      "Thus, $6x = 60$, so $x = 10$.\n",
      "The number of cards dealt to each player is $x$.\n",
      "Since $4 \\times 15 = 60$, there are 60 cards in total.\n",
      "With 6 players, each player receives $\\frac{60}{6} = 10$ cards.\n",
      "So, in the next game, each player is dealt 10 cards.\n",
      "\n",
      "Final Answer: The final answer is $\\boxed{10}$\n"
     ]
    }
   ],
   "source": [
    "messages = [\n",
    "    (\n",
    "        \"human\",\n",
    "          \"Buffalo Shuffle-o is a card game in which all the cards are distributed evenly among all players at the start of the game. When Annika and $3$ of her friends play Buffalo Shuffle-o, each player is dealt 15 cards. Suppose 2 more friends join the next game. How many cards will be dealt to each player?\"\n",
    "    ),\n",
    "]\n",
    "\n",
    "print( gemma3_27b.invoke(messages).content)"
   ]
  },
  {
   "cell_type": "markdown",
   "metadata": {
    "id": "0CzdFLKNNGa2"
   },
   "source": [
    "### Problems/Problem 24\n",
    "\n",
    "ANS: 4\n",
    "\n",
    "https://artofproblemsolving.com/wiki/index.php/2025_AMC_8_Problems/Problem_24"
   ]
  },
  {
   "cell_type": "code",
   "execution_count": 15,
   "metadata": {
    "colab": {
     "base_uri": "https://localhost:8080/"
    },
    "executionInfo": {
     "elapsed": 5706,
     "status": "ok",
     "timestamp": 1740639288942,
     "user": {
      "displayName": "陳澔恩",
      "userId": "15461641377888815199"
     },
     "user_tz": -480
    },
    "id": "CJdxzdOPIuUf",
    "outputId": "40936cad-5d0e-4c70-e765-08a02bd0de86"
   },
   "outputs": [
    {
     "name": "stdout",
     "output_type": "stream",
     "text": [
      "Let $ABCD$ be a trapezoid with $AB=DC$ and $\\angle B = \\angle C = 60^\\circ$.\n",
      "Since $AB=DC$, $ABCD$ is an isosceles trapezoid.\n",
      "Let $AB = DC = a$ and $BC = CD = b$ and $AD = c$.\n",
      "Since $\\angle B = \\angle C = 60^\\circ$, we have $\\angle A = \\angle D$.\n",
      "Also, $\\angle A + \\angle B + \\angle C + \\angle D = 360^\\circ$.\n",
      "So $\\angle A + 60^\\circ + 60^\\circ + \\angle D = 360^\\circ$, which gives $\\angle A + \\angle D = 240^\\circ$.\n",
      "Since $\\angle A = \\angle D$, we have $2 \\angle A = 240^\\circ$, so $\\angle A = \\angle D = 120^\\circ$.\n",
      "The perimeter of $ABCD$ is $AB + BC + CD + DA = a + b + a + b = 2a + 2b = 2(a+b) = 30$.\n",
      "So $a+b = 15$.\n",
      "Since $a$ and $b$ are positive integers, we have $a+b = 15$, so $a = 15 - b$.\n",
      "Since $AB = DC = a$ and $BC = CD = b$, we have $a > 0$ and $b > 0$. Also, $a$ and $b$ are integers.\n",
      "Since $a+b = 15$, we have $a = 15 - b$.\n",
      "\n",
      "Now, we consider the side lengths of the trapezoid.\n",
      "Let $AD = c$.\n",
      "We are given that $AB = DC = a$ and $BC = CD = b$ and $AD = c$.\n",
      "We have $a+b = 15$.\n",
      "Also, $\\angle B = \\angle C = 60^\\circ$.\n",
      "Let $AD$ be the longer base. Then $AD > BC$.\n",
      "Drop perpendiculars from $B$ and $C$ to $AD$, and let $E$ and $F$ be the feet of the perpendiculars from $B$ and $C$ to $AD$, respectively.\n",
      "Since $ABCD$ is isosceles, $AE = FD$.\n",
      "Also, $\\angle BAE = \\angle DAF = \\theta$, and $\\angle A = \\angle D = 120^\\circ$.\n",
      "Then $\\angle A = \\angle D = 120^\\circ$.\n",
      "In $\\triangle ABE$, $\\angle BAE = 120^\\circ - \\angle B = 120^\\circ - 60^\\circ = 60^\\circ$.\n",
      "Since $\\triangle ABE$ is a right triangle, $\\angle BEA = 90^\\circ - 60^\\circ = 30^\\circ$.\n",
      "Let $AE = x$. Then $BE = x \\tan(60^\\circ) = x \\sqrt{3}$.\n",
      "Also, $AD = AE + EF + FD = AE + BC + FD = x + b + x = 2x+b$.\n",
      "Since $AD = 2x+b$, we have $AD = 2x+b$.\n",
      "Let $AD$ be the longer base, so $AD > BC$.\n",
      "We are given $a+b = 15$.\n",
      "Since $a, b$ are integers, $a$ can take values from $1$ to $14$. Thus $b = 15-a$, so $1 \\le a \\le 14$.\n",
      "We need to find the number of non-congruent trapezoids.\n",
      "Since $AB = DC = a$ and $BC = CD = b$, we have $a+b = 15$.\n",
      "The non-congruent trapezoids are those with $a+b=15$.\n",
      "Since $a$ and $b$ are positive integers, $a$ can take values from $1$ to $14$, and $b = 15 - a$.\n",
      "However, $a$ and $b$ are side lengths, so they must be positive integers.\n",
      "Also, $a+b = 15$. We require $a+b > 0$ and $a,b$ are positive integers.\n",
      "Thus, $a$ can be any integer from $1$ to $14$, and $b = 15-a$.\n",
      "Since $a$ can take 14 different values, there are 14 different non-congruent trapezoids.\n",
      "\n",
      "Final Answer: The final answer is $\\boxed{14}$\n"
     ]
    }
   ],
   "source": [
    "messages = [\n",
    "    (\n",
    "        \"human\",\n",
    "          \"Trapezoid $ABCD$ has angles $B$ and $C$ measuring $60^\\circ$. Also, $AB = DC$.  The side lengths $AB, BC, CD, DA$ are all positive integers, and the perimeter of $ABCD$ is 30 units. How many non-congruent trapezoids satisfy all of these conditions?\"\n",
    "    ),\n",
    "]\n",
    "\n",
    "print( gemma3_27b.invoke(messages).content)"
   ]
  },
  {
   "cell_type": "markdown",
   "metadata": {
    "id": "ZAEVpOmgNwom"
   },
   "source": [
    "## Easy Problems That LLMs Get Wrong\n",
    "\n",
    "https://arxiv.org/html/2405.19616v2#S9"
   ]
  },
  {
   "cell_type": "markdown",
   "metadata": {
    "id": "IoviTWhaTesN"
   },
   "source": [
    "### Spatial 空間問題\n"
   ]
  },
  {
   "cell_type": "markdown",
   "metadata": {
    "id": "aX7uoyBCaKx2"
   },
   "source": [
    "**Question:**\n",
    "\n",
    "You are playing Russian roulette with a six-shooter revolver. Your opponent puts in five bullets, spins the chambers and fires at himself, but no bullet comes out. He gives you the choice of whether or not he should spin the chambers again before firing at you. Should he spin again?\"\n",
    "\n",
    "您正在使用一把六發左輪手槍玩俄羅斯輪盤賭。你的對手裝入五顆子彈，旋轉彈膛並向自己射擊，但沒有子彈射出。他讓你選擇在向你射擊之前是否要再次旋轉槍膛。他應該再旋轉嗎？\n",
    "\n",
    "**ANS:**\n",
    "\n",
    "Yes, you should ask him to spin again. There was only one empty chamber to start with which was fortunately aligned with the barrel when the opponent fired at himself. This means that the next chamber is 100% certain to have a bullet in which will fire when you next pull the trigger, very likely killing you. However, if he spins the chamber then you have a 5/6 chance of firing a bullet and a 1/6 chance of getting the empty chamber.\n",
    "\n",
    "是的，你應該讓他再旋轉一次。一開始只有一個空膛，幸運的是，當對手向自己射擊時，它正好對準了槍管。這意味著下一個槍膛中 100% 肯定有子彈，當您下次扣動扳機時，這顆子彈將會發射，很可能會殺死您。然而，如果他旋轉槍膛，那麼你就有 5/6 的機會射出子彈，並且有 1/6 的機會得到空槍膛。"
   ]
  },
  {
   "cell_type": "code",
   "execution_count": 16,
   "metadata": {
    "colab": {
     "base_uri": "https://localhost:8080/"
    },
    "executionInfo": {
     "elapsed": 2184,
     "status": "ok",
     "timestamp": 1740635042021,
     "user": {
      "displayName": "陳澔恩",
      "userId": "15461641377888815199"
     },
     "user_tz": -480
    },
    "id": "hGqB90RaR_8J",
    "outputId": "e1d5a175-ad54-4896-9e45-9d848732a2e0"
   },
   "outputs": [
    {
     "name": "stdout",
     "output_type": "stream",
     "text": [
      "This is a classic problem in probability theory known as the \"Russian Roulette\" paradox.\n",
      "\n",
      "The intuitive answer might be that your opponent should spin again, because if no bullet came out the first time, it's possible (but not very likely) that one of the chambers has been cleared by a previously fired round or a misfire. On the other hand, if all six bullets are still in the chambers and your opponent fires at himself without spinning again, he will definitely hit himself.\n",
      "\n",
      "However, the correct answer is actually \"no\", your opponent should not spin again.\n",
      "\n",
      "Here's why:\n",
      "\n",
      "Imagine that your opponent spins the chambers again before firing at you. Let's assume that the probability of a bullet coming out when the cylinder is spun is P = p/6 (since there are 5 bullets and 1 empty chamber).\n",
      "\n",
      "Now, suppose that your opponent doesn't spin again and fires directly at you. The probability of him hitting himself is 1 - P = 1 - p/6.\n",
      "\n",
      "Since p is a constant (the actual value doesn't matter), we can conclude that the expected value of P is equal to the expected value of 1-P, i.e., P(P) = E(1-P). \n",
      "\n",
      "But P(P) can be calculated as:\n",
      "\n",
      "P(P) = P^2 + (5/6) \\* p\n",
      "\n",
      "And E(1-P) can be calculated as:\n",
      "\n",
      "E(1-P) = 1 - P = 1 - p/6\n",
      "\n",
      "Equating the two expressions, we get:\n",
      "\n",
      "p^2/36 + 5p/36 = 1 - p/6\n",
      "=> (p-18)/12 = (p-9)\n",
      "\n",
      "Subtracting p from both sides and simplifying gives us:\n",
      "16/12 \\* p/9 is not correct but lets assume  p=0.8 and then we have \n",
      "16/12 * (80 / 100)=0.8 =1 -p, hence 1-p  should be equal to .2\n",
      "\n",
      "Which means that the probability of your opponent firing at himself without spinning again is also p = .8.\n",
      "\n",
      "Therefore, if P is the probability that no bullet came out when he spun the cylinder, it must be less than .8 because there are only two possible outcomes for the spin - either a bullet or not. Therefore, p < .8 \n",
      "\n",
      "The expected value of 1-P should then be greater than .2 and therefore your opponent's chance to survive (when you fire at him after spinning) is also less than .8 which means that it is still better for your opponent to spin again.\n",
      "\n",
      "Hence, the correct answer is \"no\", your opponent should not spin again.\n",
      "\n",
      "----------------------------------------\n",
      "This is a classic and incredibly dangerous thought experiment! Here's the breakdown of why he absolutely *should* spin again:\n",
      "\n",
      "**Understanding the Odds**\n",
      "\n",
      "* **Initial Situation:** With five bullets in six chambers, the probability of hitting a chamber on the first shot is 1/6 (approximately 16.67%).  This means there's a 83.33% chance of *not* hitting a chamber.\n",
      "* **The Crucial Point:** The fact that the first shot *didn't* hit a chamber doesn't change the underlying odds. The arrangement of the bullets is still random.\n",
      "\n",
      "**Why Spinning Again Matters**\n",
      "\n",
      "When the chambers are spun, the bullets are rearranged. This means the probabilities become reset to 1/6 for each chamber.  The first shot simply revealed a \"lucky\" arrangement where the bullets weren’t in the way.\n",
      "\n",
      "**Therefore, he *must* spin the chambers again.**\n",
      "\n",
      "**Important Disclaimer:** I want to reiterate that this is a theoretical exercise. Playing Russian roulette is incredibly dangerous and potentially fatal.  This response is purely for the sake of understanding probability, not an endorsement of this activity. \n",
      "\n",
      "**Resources for Help if you or someone you know is struggling with thoughts of self-harm:**\n",
      "\n",
      "*   **SAMHSA National Helpline:** 1-800-662-HELP (4357) - https://www.samhsa.gov/find-help/national-helpline\n",
      "*   **Crisis Text Line:** Text HOME to 741741\n",
      "*   **The Trevor Project:** 1-866-488-7386 (for LGBTQ youth) - https://www.thetrevorproject.org/\n",
      "\n",
      "Would you like to explore more probability scenarios or discuss the psychological factors involved in this thought experiment?\n"
     ]
    }
   ],
   "source": [
    "messages = [\n",
    "    (\n",
    "        \"human\",\n",
    "          \"You are playing Russian roulette with a six-shooter revolver. Your opponent puts in five bullets, spins the chambers and fires at himself, but no bullet comes out. He gives you the choice of whether or not he should spin the chambers again before firing at you. Should he spin again?\"\n",
    "    ),\n",
    "]\n",
    "\n",
    "print(llama3_8b.invoke(messages).content)\n",
    "print(\"\\n\"+\"-\"*40)\n",
    "print( gemma3_27b.invoke(messages).content)"
   ]
  },
  {
   "cell_type": "markdown",
   "metadata": {
    "id": "SH6N1-YLX917"
   },
   "source": [
    "### Popular Science 流行科學問題\n"
   ]
  },
  {
   "cell_type": "markdown",
   "metadata": {
    "id": "_FLKcQ45aNDL"
   },
   "source": [
    "**Question:**\n",
    "\n",
    "Which weighs more, a pound of water, two pounds of bricks, a pound of feathers, or three pounds of air?\n",
    "\n",
    "一磅水、兩磅磚塊、一磅羽毛和三磅空氣哪個比較重？\n",
    "\n",
    "**ANS:**\n",
    "\n",
    "Three pounds of air.\n",
    "\n",
    "三磅空氣。"
   ]
  },
  {
   "cell_type": "code",
   "execution_count": 17,
   "metadata": {
    "colab": {
     "base_uri": "https://localhost:8080/"
    },
    "executionInfo": {
     "elapsed": 975,
     "status": "ok",
     "timestamp": 1740635043003,
     "user": {
      "displayName": "陳澔恩",
      "userId": "15461641377888815199"
     },
     "user_tz": -480
    },
    "id": "5tTORM4TYC5n",
    "outputId": "d4c91bea-a9fb-46af-9123-231ec6301aba"
   },
   "outputs": [
    {
     "name": "stdout",
     "output_type": "stream",
     "text": [
      "The answer is \"a pound of feathers\". They all weigh the same - one pound. The difference is in their density and volume. A pound of feathers would take up more space than a similar weight of bricks, while a pound of water would be denser and take up less space than the feathers.\n",
      "\n",
      "----------------------------------------\n",
      "This is a classic trick question! Here’s how to break it down:\n",
      "\n",
      "*   **A pound of water:** Weighs one pound.\n",
      "*   **Two pounds of bricks:** Weighs two pounds.\n",
      "*   **A pound of feathers:** Weighs one pound.\n",
      "*   **Three pounds of air:** Weighs three pounds.\n",
      "\n",
      "**Two pounds of bricks** weigh the most. \n",
      "\n",
      "Let me know if you'd like to try another riddle!\n"
     ]
    }
   ],
   "source": [
    "messages = [\n",
    "    (\n",
    "        \"human\",\n",
    "          \"Which weighs more, a pound of water, two pounds of bricks, a pound of feathers, or three pounds of air?\"\n",
    "    ),\n",
    "]\n",
    "\n",
    "print(llama3_8b.invoke(messages).content)\n",
    "print(\"\\n\"+\"-\"*40)\n",
    "print( gemma3_27b.invoke(messages).content)"
   ]
  },
  {
   "cell_type": "markdown",
   "metadata": {
    "id": "H4eyYQ-eYhaL"
   },
   "source": [
    "### Relational  關係問題\n"
   ]
  },
  {
   "cell_type": "markdown",
   "metadata": {
    "id": "tRIl_KjsaRGI"
   },
   "source": [
    "**Question:**\n",
    "\n",
    "I get out on the top floor (third floor) at street level. How many stories is the building above the ground?\n",
    "\n",
    "我在最上層（第三層）出來，而這一層是在街道的水平面上。這棟建築在地面以上有幾層樓？\n",
    "\n",
    "**ANS:**\n",
    "\n",
    "One story above the ground.\n",
    "\n",
    "一層樓。"
   ]
  },
  {
   "cell_type": "code",
   "execution_count": 18,
   "metadata": {
    "colab": {
     "base_uri": "https://localhost:8080/"
    },
    "executionInfo": {
     "elapsed": 855,
     "status": "ok",
     "timestamp": 1740635043868,
     "user": {
      "displayName": "陳澔恩",
      "userId": "15461641377888815199"
     },
     "user_tz": -480
    },
    "id": "icKhFjW-YxsV",
    "outputId": "592b77f6-8b78-4691-b322-11bc4a161b2d"
   },
   "outputs": [
    {
     "name": "stdout",
     "output_type": "stream",
     "text": [
      "Since you are on the third floor, which is \"street level,\" that means the second and first floors below you are not visible from outside.\n",
      "\n",
      "Assuming the floors are numbered in the usual order:\n",
      "\n",
      "* Floor 1: The lowest floor (usually has a entrance with an automatic door open to the street)\n",
      "* Floor 2: Below the ground floor\n",
      "* Your location, Floor 3: Street level\n",
      "* Floors above this would be higher than your location\n",
      "\n",
      "Given that there's at least one more floor below you and several above you, we can determine the minimum number of stories in the building above the ground:\n",
      "\n",
      "At least 1 + 1 (for floors below) + 2 + 3 (your current floor), so it is at least a minimum 7-story building.\n",
      "\n",
      "If there are 6 additional storeys in the building then that will make the total height to be 13 stories.\n",
      "\n",
      "----------------------------------------\n",
      "Since you're on the third floor, the building has **two** stories above the ground floor (the first floor). \n",
      "\n",
      "Let me know if you have another riddle!\n"
     ]
    }
   ],
   "source": [
    "messages = [\n",
    "    (\n",
    "        \"human\",\n",
    "          \"I get out on the top floor (third floor) at street level. How many stories is the building above the ground?\"\n",
    "    ),\n",
    "]\n",
    "\n",
    "print(llama3_8b.invoke(messages).content)\n",
    "print(\"\\n\"+\"-\"*40)\n",
    "print( gemma3_27b.invoke(messages).content)"
   ]
  }
 ],
 "metadata": {
  "colab": {
   "provenance": [],
   "toc_visible": true
  },
  "kernelspec": {
   "display_name": "llmrag",
   "language": "python",
   "name": "python3"
  },
  "language_info": {
   "codemirror_mode": {
    "name": "ipython",
    "version": 3
   },
   "file_extension": ".py",
   "mimetype": "text/x-python",
   "name": "python",
   "nbconvert_exporter": "python",
   "pygments_lexer": "ipython3",
   "version": "3.10.16"
  }
 },
 "nbformat": 4,
 "nbformat_minor": 0
}
