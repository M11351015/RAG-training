{
 "cells": [
  {
   "cell_type": "markdown",
   "metadata": {},
   "source": [
    "# Week 2: RAG\n",
    "\n",
    "Two methods to equip a model with new knowledge:\n",
    "1. **RAG (Retrieval-Augmented Generation)**\n",
    "2. Fine-tuning\n",
    "\n",
    "---\n",
    "\n",
    "In this tutorial, we will:  \n",
    "1. Demonstrate the limitations of LLMs with examples.\n",
    "2. Build a RAG using LangChain and LangGraph.\n",
    "3. Enable the LLM's web search functionality.  "
   ]
  },
  {
   "cell_type": "markdown",
   "metadata": {
    "id": "b07pyuGxlF2N"
   },
   "source": [
    "## Table of Contents\n",
    "\n",
    "**建議使用 Colab 側邊欄的 TOC 瀏覽章節**\n",
    "\n",
    "- [RAG workflow](#rag-workflow)\n",
    "- [1. 安裝與啟動 Ollama (Install and Start Ollama)](#1-安裝與啟動-ollama-install-and-start-ollama)\n",
    "- [2. 使用 requests 發送 prompt (Use requests to send prompt)](#2-使用-requests-發送-prompt-use-requests-to-send-prompt)\n",
    "  - [2.1 The LLM Model we're going to use](#21-the-llm-model-were-going-to-use)\n",
    "- [3. Limitations of Language Models](#3-limitations-of-language-models)\n",
    "  - [3.1 Hallucinations](#31-hallucinations)\n",
    "    - [3.1.1 Let's try in legal fields](#311-lets-try-in-legal-fields)\n",
    "  - [3.2 Knowledge cut-off](#32-knowledge-cut-off)\n",
    "    - [3.2.1 LLMs won't know about things that happened recently](#321-llms-wont-know-about-things-that-happened-recently)\n",
    "- [4. Let's build RAG to solve it!](#4-lets-build-rag-to-solve-it)\n",
    "  - [4.1 The Knowledge we want LLM to know](#41-the-knowledge-we-want-llm-to-know)\n",
    "  - [4.2 Web Scraping these Knowledge](#42-web-scraping-these-knowledge)\n",
    "  - [4.3 Splitting and Chunking Data](#43-splitting-and-chunking-data)\n",
    "  - [4.4 Setup Embedding Model](#44-setup-embedding-model)\n",
    "  - [4.5 Vector Database](#45-vector-database)\n",
    "  - [4.6 Save embedding into Vector DB](#46-save-embedding-into-vector-db)\n",
    "  - [4.7 Define Prompt](#47-define-prompt)\n",
    "  - [4.8 Building RAG Workflow](#48-building-rag-workflow)\n",
    "  - [4.9 Done! Let's try it!](#49-done-lets-try-it)\n",
    "    - [4.9.1 Some question you can try](#491-some-question-you-can-try)\n",
    "    - [4.9.2 Trying harder question](#492-trying-harder-question)\n",
    "- [5. RAG Use Case Overview](#5-rag-use-case-overview)\n",
    "- [6. Enable Web Search Functionalities](#6-enable-web-search-functionalities)\n"
   ]
  },
  {
   "cell_type": "markdown",
   "metadata": {
    "id": "LdE0k3jAS_AG"
   },
   "source": [
    "## RAG workflow\n",
    "\n",
    "![RAG workflow](./Images/1_8_4t5Rno_9lQaMpmR33g7g.webp)  \n",
    "\n",
    "\n",
    "\n",
    "\n"
   ]
  },
  {
   "cell_type": "markdown",
   "metadata": {
    "id": "q9JZiQ5civkY"
   },
   "source": [
    "# 1. 安裝與啟動 Ollama (Install and Start Ollama)\n",
    "\n",
    "請先安裝 [Ollama](https://ollama.com) 並拉取模型 [`gemma3:27b`](https://ollama.com/library/gemma3:27b)。  \n",
    "(Please install Ollama and pull the model `gemma3:27b`.)\n"
   ]
  },
  {
   "cell_type": "markdown",
   "metadata": {
    "id": "cDQUV0ullgt_"
   },
   "source": [
    "# 2. 使用 requests 發送 prompt (Use requests to send prompt)\n"
   ]
  },
  {
   "cell_type": "markdown",
   "metadata": {},
   "source": [
    "## 2.1 The LLM Model we're going to use"
   ]
  },
  {
   "cell_type": "code",
   "execution_count": 8,
   "metadata": {},
   "outputs": [],
   "source": [
    "import os\n",
    "from langchain_community.chat_models import ChatOllama\n",
    "\n",
    "llm = ChatOllama(\n",
    "    model=\"gemma3\",\n",
    "    temperature=1.0,\n",
    "    max_tokens=None,\n",
    "    base_url=\"http://localhost:11434\",\n",
    "    timeout=None,\n",
    "    max_retries=2,\n",
    "    # other params...\n",
    ")\n"
   ]
  },
  {
   "cell_type": "code",
   "execution_count": 5,
   "metadata": {},
   "outputs": [
    {
     "name": "stdout",
     "output_type": "stream",
     "text": [
      "Meow! 🐾\n",
      "\n"
     ]
    }
   ],
   "source": [
    "from langchain_core.messages import HumanMessage, SystemMessage, AIMessage\n",
    "# 準備訊息列表\n",
    "messages = [\n",
    "    SystemMessage(content=\"You are a cat and can only communicate by meowing.\"),\n",
    "    HumanMessage(content=\"hi!\"),\n",
    "]\n",
    "\n",
    "# 呼叫模型\n",
    "response = llm.invoke(messages).content\n",
    "print(response)"
   ]
  },
  {
   "cell_type": "markdown",
   "metadata": {
    "id": "dwmU99P_lp-1"
   },
   "source": [
    "# 3.Limitations of Language Models"
   ]
  },
  {
   "cell_type": "markdown",
   "metadata": {
    "id": "Q4FBpIDHslNN"
   },
   "source": [
    "## 3.1 Hallucinations\n",
    "\n",
    "Language models sometimes generate responses that appear plausible but are factually incorrect or entirely fabricated. This phenomenon, known as \"hallucination,\" can mislead users, especially in contexts requiring high accuracy, such as medical, legal, or technical fields."
   ]
  },
  {
   "cell_type": "markdown",
   "metadata": {
    "id": "ypEI95rdxfAC"
   },
   "source": [
    "### 3.1.1 Let's try in legel fields\n",
    "\n",
    "Truth is, **there is no Article 1226 in Civil Code**, we can verify it.\n",
    "\n",
    "[Civil Code Search(Chinese ver)](https://law.moj.gov.tw/LawClass/LawSearchCNKey.aspx?BTNType=NO&pcode=B0000001)\n",
    "\n",
    "[Civil Code Search(English ver)](https://law.moj.gov.tw/ENG/LawClass/LawSearchCNKey.aspx?BTNType=NO&pcode=B0000001)"
   ]
  },
  {
   "cell_type": "code",
   "execution_count": 6,
   "metadata": {
    "colab": {
     "base_uri": "https://localhost:8080/"
    },
    "executionInfo": {
     "elapsed": 4811,
     "status": "ok",
     "timestamp": 1740965129537,
     "user": {
      "displayName": "陳澔恩",
      "userId": "15461641377888815199"
     },
     "user_tz": -480
    },
    "id": "arVmZri6sqSg",
    "outputId": "e3b4d7c5-c87d-4df5-8ee0-7a86830f6acb"
   },
   "outputs": [
    {
     "name": "stdout",
     "output_type": "stream",
     "text": [
      "Okay, let's break down the content of Article 1226 of the Civil Code (民法) of Taiwan.\n",
      "\n",
      "**中華民國民法 第1226條**\n",
      "\n",
      "**要約契約**\n",
      "\n",
      "(一) 契約經當事方約定，於一定時間內，任何一方得在一定條件下解除契約。\n",
      "(二)  此種契約之內容、條件及解除方式，由當事方約定。\n",
      "\n",
      "**Translation & Explanation:**\n",
      "\n",
      "**Article 1226: Option Contract (要約契約)**\n",
      "\n",
      "(1) By agreement of the parties, a contract may be terminated by any party under certain conditions within a specified period.\n",
      "(2) The content, conditions, and manner of termination of this type of contract shall be agreed upon by the parties.\n",
      "\n",
      "**Key Points & Breakdown:**\n",
      "\n",
      "* **What it is:** Article 1226 establishes the concept of an “option contract” (要約契約). This is a contract where one party (the option holder) has the *right*, but not the obligation, to enter into a main contract under specific conditions and within a specified timeframe.\n",
      "\n",
      "* **Right to Terminate:** The core of this article is the power granted to *either* party to terminate the contract.  This isn't a standard, automatically-terminating contract.\n",
      "\n",
      "* **Specified Period & Conditions:** This right to terminate is limited to a “specified period” (一定時間內) and is triggered by meeting certain “conditions” (一定條件下).  These conditions are defined by the parties themselves.\n",
      "\n",
      "* **Party Agreement:** The *details* – exactly what those conditions are and *how* the termination occurs – are completely determined by the agreement of the parties involved.  There's no standard formula.\n",
      "\n",
      "\n",
      "**Important Note:**  This article provides a framework. The specifics of any option contract will be dictated entirely by the agreement between the parties.  It's essential to examine the precise wording of the contract itself to fully understand the terms.\n",
      "\n",
      "---\n",
      "\n",
      "**Disclaimer:** *I am an AI Chatbot and not a legal professional.  This information is for general understanding only. Consult with a qualified Taiwanese legal expert for advice related to your specific situation.*\n",
      "\n",
      "Do you want me to:\n",
      "\n",
      "*   Explain a particular aspect of Article 1226 in more detail?\n",
      "*   Provide an example of how this article might be applied?\n",
      "*   Compare it to similar provisions in other legal systems?\n"
     ]
    }
   ],
   "source": [
    "messages = [\n",
    "    (\"human\", \"What is the specific content of Article 1226 in the Civil Code(民法) of Taiwan? Reply in Chinese.\"),\n",
    "]\n",
    "ai_msg = llm.invoke(messages)\n",
    "\n",
    "print(ai_msg.content)"
   ]
  },
  {
   "cell_type": "markdown",
   "metadata": {
    "id": "q8aOS9jdsj2R"
   },
   "source": [
    "## 3.2 Knowledge cut-off\n",
    "\n",
    "The knowledge of a language model is limited to the data it was trained on, up to a specific cut-off date. As a result, it cannot provide information about events, discoveries, or updates that occurred after that point, making it less reliable for addressing recent developments."
   ]
  },
  {
   "cell_type": "markdown",
   "metadata": {
    "id": "PHCCy6Mc3WEe"
   },
   "source": [
    "### 3.2.1 LLMs won't know about things that happened recently\n",
    "\n",
    "The 47th United States presidential election took place on **November 5, 2024**.\n",
    "\n",
    "The model we're using, `gemini-2.0-flash`, knowledge cutoff at **June 2024** ([see more about model](https://deepmind.google/technologies/gemini/flash/))"
   ]
  },
  {
   "cell_type": "code",
   "execution_count": 7,
   "metadata": {
    "colab": {
     "base_uri": "https://localhost:8080/"
    },
    "executionInfo": {
     "elapsed": 496,
     "status": "ok",
     "timestamp": 1740965130033,
     "user": {
      "displayName": "陳澔恩",
      "userId": "15461641377888815199"
     },
     "user_tz": -480
    },
    "id": "c6F8jNzVsqz7",
    "outputId": "65c9eae3-74d1-4671-de28-a167291b4205"
   },
   "outputs": [
    {
     "name": "stdout",
     "output_type": "stream",
     "text": [
      "Joe Biden won the 47th US Presidential election (the 2020 election). \n",
      "\n",
      "He defeated Donald Trump in a very close race.\n"
     ]
    }
   ],
   "source": [
    "messages = [\n",
    "    (\"human\", \"Who won the 47th US President election?\"),\n",
    "]\n",
    "ai_msg = llm.invoke(messages)\n",
    "\n",
    "print(ai_msg.content)"
   ]
  },
  {
   "cell_type": "markdown",
   "metadata": {
    "id": "i3Sf_Wmb4gA9"
   },
   "source": [
    "# 4.Let's build RAG to slove it!"
   ]
  },
  {
   "cell_type": "markdown",
   "metadata": {
    "id": "YpAHep1j8IjW"
   },
   "source": [
    "## 4.1 The Knowledge we want LLM to know\n",
    "\n",
    "These are news reports about events that occurred between late 2024 and early 2025, which the LLM is not yet aware have taken place.\n",
    "\n",
    "1. [Trump seeks to force TSMC negotiations, experts say](https://www.taipeitimes.com/News/biz/archives/2025/02/10/2003831601) - 專家：川普試圖迫使台積電進行談判\n",
    "2. [Instagram ‘Teen Accounts’ go live in Taiwan today](https://www.taipeitimes.com/News/taiwan/archives/2025/02/11/2003831708) - Instagram「青少年帳號」今日在台灣上線\n",
    "3. [Donald Trump wins US presidency](https://www.taipeitimes.com/News/front/archives/2024/11/07/2003826511) - 川普當選美國總統\n",
    "4. [Team Taiwan claim U-12 Asian baseball title](https://www.taipeitimes.com/News/front/archives/2024/11/30/2003827724) - 台灣隊奪得U-12亞洲棒球錦標賽冠軍\n",
    "5. [What is DeepSeek and why is it disrupting the AI sector?](https://www.taipeitimes.com/News/lang/archives/2025/02/11/2003831649) - 什麼是DeepSeek？為何它正在顛覆AI產業？"
   ]
  },
  {
   "cell_type": "markdown",
   "metadata": {
    "id": "iIXaxmPlEtRG"
   },
   "source": [
    "## 4.2 Web Scraping these Knowledge\n",
    "\n",
    "Use web scraping on the five news articles mentioned above to extract the textual content of the reports."
   ]
  },
  {
   "cell_type": "code",
   "execution_count": 9,
   "metadata": {
    "colab": {
     "base_uri": "https://localhost:8080/"
    },
    "executionInfo": {
     "elapsed": 10360,
     "status": "ok",
     "timestamp": 1740965140393,
     "user": {
      "displayName": "陳澔恩",
      "userId": "15461641377888815199"
     },
     "user_tz": -480
    },
    "id": "a7E1c4Tj8dfT",
    "outputId": "bf3a1608-387b-4f5b-8d80-2fc188518a51"
   },
   "outputs": [
    {
     "name": "stdout",
     "output_type": "stream",
     "text": [
      "Finished crawing news form urls.\n",
      "News 1:\n",
      "  Source URL: https://www.taipeitimes.com/News/biz/archives/2025/02/10/2003831601\n",
      "  Total Characters: 8696\n",
      "------------------------------\n",
      "News 2:\n",
      "  Source URL: https://www.taipeitimes.com/News/taiwan/archives/2025/02/11/2003831708\n",
      "  Total Characters: 6596\n",
      "------------------------------\n",
      "News 3:\n",
      "  Source URL: https://www.taipeitimes.com/News/front/archives/2024/11/07/2003826511\n",
      "  Total Characters: 8827\n",
      "------------------------------\n",
      "News 4:\n",
      "  Source URL: https://www.taipeitimes.com/News/front/archives/2024/11/30/2003827724\n",
      "  Total Characters: 7519\n",
      "------------------------------\n",
      "News 5:\n",
      "  Source URL: https://www.taipeitimes.com/News/lang/archives/2025/02/11/2003831649\n",
      "  Total Characters: 10852\n",
      "------------------------------\n"
     ]
    }
   ],
   "source": [
    "import bs4\n",
    "os.environ['USER_AGENT'] = 'Mozilla/5.0 (Windows NT 10.0; Win64; x64) AppleWebKit/537.36 (KHTML, like Gecko) Chrome/58.0.3029.110 Safari/537.3'\n",
    "from langchain_community.document_loaders import WebBaseLoader\n",
    "\n",
    "\n",
    "# Load and chunk contents\n",
    "loader = WebBaseLoader(\n",
    "    web_paths=(\n",
    "        \"https://www.taipeitimes.com/News/biz/archives/2025/02/10/2003831601\",\n",
    "        \"https://www.taipeitimes.com/News/taiwan/archives/2025/02/11/2003831708\",\n",
    "        \"https://www.taipeitimes.com/News/front/archives/2024/11/07/2003826511\",\n",
    "        \"https://www.taipeitimes.com/News/front/archives/2024/11/30/2003827724\",\n",
    "        \"https://www.taipeitimes.com/News/lang/archives/2025/02/11/2003831649\"\n",
    "        ),\n",
    "    )\n",
    "\n",
    "docs = loader.load()\n",
    "\n",
    "assert len(docs) == 5\n",
    "\n",
    "print(\"Finished crawing news form urls.\")\n",
    "\n",
    "for i, doc in enumerate(docs):\n",
    "    print(f\"News {i + 1}:\")\n",
    "    print(f\"  Source URL: {doc.metadata['source']}\")\n",
    "    print(f\"  Total Characters: {len(doc.page_content.strip())}\")\n",
    "    print(\"-\" * 30)"
   ]
  },
  {
   "cell_type": "markdown",
   "metadata": {
    "id": "2Z0PZeYyAf3q"
   },
   "source": [
    "## 4.3 Splitting and Chunking Data\n",
    "\n",
    "There is too much characters here, and providing all of it to the LLM at once is not a good choice. Therefore, we need to break those into smaller chunks while preserving the semantics.\n",
    "\n",
    "- `chunk_size`: The maximum size of each chunk.\n",
    "- `chunk_overlap`: The number of overlapping characters between consecutive chunks. This ensures semantic continuity across chunks and prevents loss of context."
   ]
  },
  {
   "cell_type": "code",
   "execution_count": 10,
   "metadata": {
    "colab": {
     "base_uri": "https://localhost:8080/"
    },
    "executionInfo": {
     "elapsed": 119,
     "status": "ok",
     "timestamp": 1740965140511,
     "user": {
      "displayName": "陳澔恩",
      "userId": "15461641377888815199"
     },
     "user_tz": -480
    },
    "id": "cfIAYAvnAa6K",
    "outputId": "5e6dc0af-6320-4a86-8882-036880c92c72"
   },
   "outputs": [
    {
     "name": "stdout",
     "output_type": "stream",
     "text": [
      "Split all news into 68 sub-documents.\n"
     ]
    }
   ],
   "source": [
    "from langchain_text_splitters import RecursiveCharacterTextSplitter\n",
    "\n",
    "text_splitter = RecursiveCharacterTextSplitter(\n",
    "    chunk_size=1000,  # chunk size (characters)\n",
    "    chunk_overlap=200,  # chunk overlap (characters)\n",
    "    add_start_index=True,  # track index in original document\n",
    ")\n",
    "all_splits = text_splitter.split_documents(docs)\n",
    "\n",
    "print(f\"Split all news into {len(all_splits)} sub-documents.\")"
   ]
  },
  {
   "cell_type": "markdown",
   "metadata": {
    "id": "y9yIzEq1GBlC"
   },
   "source": [
    "## 4.4 Setup Embedding Model\n",
    "\n",
    "The Embedding Model can convert the semantics of a sentence into a high-dimensional vector."
   ]
  },
  {
   "cell_type": "code",
   "execution_count": 24,
   "metadata": {
    "colab": {
     "base_uri": "https://localhost:8080/"
    },
    "executionInfo": {
     "elapsed": 258,
     "status": "ok",
     "timestamp": 1740965140781,
     "user": {
      "displayName": "陳澔恩",
      "userId": "15461641377888815199"
     },
     "user_tz": -480
    },
    "id": "MTlEWXTUGEcF",
    "outputId": "5b1802aa-3148-4457-a7d8-727dda5579e2"
   },
   "outputs": [
    {
     "name": "stdout",
     "output_type": "stream",
     "text": [
      "[0.018574804067611694, 0.8912683129310608, -4.892469882965088, 0.06046918034553528, 0.5157424807548523, 0.008302665315568447, 1.1618986129760742, -0.49466341733932495, -0.02313239872455597, -0.45999401807785034, 1.323664903640747, 0.9787083864212036, 1.0707542896270752, -0.6464206576347351, 0.6906968951225281, 0.2472461313009262, -0.4303080439567566, -0.9496088624000549, 0.1534976214170456, 0.31445491313934326, -0.7074934244155884, -0.9292242527008057, -1.0128780603408813, -0.8978955149650574, 1.8204210996627808, 1.0105760097503662, -0.40470147132873535, 0.24186968803405762, -0.012563611380755901, -0.17961257696151733, -0.2648887634277344, 0.07651873677968979, -0.08272318542003632, -0.8771931529045105, -0.9737500548362732, 1.2908921241760254, -0.005311517044901848, -0.2892124354839325, 0.10798914730548859, -1.9025256633758545, -0.193605437874794, -1.407510757446289, -0.4320368766784668, 0.31814074516296387, 1.0021618604660034, 0.5543139576911926, 0.3231140077114105, 0.4688602387905121, 1.208269715309143, 0.19903236627578735, 0.383805513381958, 0.16378366947174072, -0.9327153563499451, 1.1264656782150269, 0.3740577697753906, 0.5755161643028259, -0.4079342186450958, 0.9025024175643921, -0.11726664006710052, 0.13918426632881165, 0.6203644275665283, 0.648173451423645, 0.9265986084938049, 1.5146933794021606, 0.3752124309539795, -0.9723911285400391, 0.7546833753585815, 0.5892724394798279, -0.4798606336116791, -0.5632645487785339, 0.08840864151716232, -0.8495578169822693, 0.5529359579086304, 0.8739146590232849, 0.017443908378481865, 0.27777454257011414, 0.179672971367836, 0.07607987523078918, 0.09331406652927399, -0.29946404695510864, 0.6211221218109131, 0.11047373712062836, -0.06795601546764374, 1.1189090013504028, 0.6429798603057861, 0.5273109078407288, 0.5017399787902832, 0.1359678953886032, -0.49547773599624634, 1.88581120967865, 0.5521618127822876, -0.5800228118896484, 1.0666424036026, 0.8680575489997864, -0.9505152106285095, -0.7446796894073486, -0.2658134400844574, -1.0114818811416626, 0.47206494212150574, 0.3050537407398224, 0.6031423807144165, 0.5438703894615173, 0.007298144977539778, -0.8764073252677917, 0.5103916525840759, 0.6523271799087524, -0.06129579618573189, -0.3199356496334076, -0.9402002692222595, -0.10931645333766937, -0.6788762807846069, 1.0511391162872314, 0.3698197305202484, -0.7614947557449341, 0.9387650489807129, 0.3380259573459625, 1.8421213626861572, -0.7232896685600281, 0.21684232354164124, 0.6187660098075867, -0.28969067335128784, -1.198150634765625, 1.0199482440948486, 1.0869098901748657, -0.42680925130844116, -0.07917223870754242, -1.0722074508666992, 1.4825303554534912, -0.14795413613319397, 0.37764453887939453, 0.29329559206962585, -0.2475224733352661, -0.48429083824157715, 0.35727590322494507, 0.29678115248680115, 1.0096849203109741, -0.4039019048213959, 0.9134376645088196, -0.11787240207195282, 1.3353779315948486, 1.13639497756958, 0.642023503780365, 0.5066379308700562, 0.130909264087677, 0.5551003217697144, -0.9996362924575806, 1.4999959468841553, -0.6235886216163635, -0.06720617413520813, 1.3289636373519897, 0.40873533487319946, -0.43582871556282043, 0.09476273506879807, -0.17306861281394958, 0.9100285768508911, -1.5894042253494263, -0.06975246220827103, -0.5135812759399414, -0.2602865695953369, -0.6532188653945923, 1.1855065822601318, -0.27004480361938477, -0.2052595466375351, 1.128572940826416, 0.05543670430779457, -2.051896810531616, 0.3586272895336151, 0.17431342601776123, 0.6121183633804321, 0.5044534206390381, -0.10716661810874939, -1.1370415687561035, -0.38667869567871094, -1.350181221961975, 0.4463619291782379, -1.4449422359466553, 0.5684219002723694, 1.0385812520980835, -0.30444684624671936, -0.7301321625709534, 0.7440083622932434, -0.13703779876232147, 1.3239306211471558, 1.0067156553268433, -2.1452836990356445, 0.020017769187688828, -0.3821137845516205, 0.06729959696531296, -0.7301231026649475, 0.13527770340442657, -0.11805348098278046, -0.16658221185207367, -0.7140527367591858, -1.5720734596252441, 0.18680328130722046, -0.34544771909713745, 0.5501865744590759, -0.5536957383155823, 0.23318380117416382, -0.41202643513679504, 0.14956000447273254, -0.16717757284641266, 0.15639591217041016, 0.04011165723204613, -0.11217909306287766, 0.28726616501808167, 0.5067327618598938, -1.2685225009918213, 0.459799200296402, 0.008469033986330032, 1.1551992893218994, -1.2101410627365112, -0.5340938568115234, 0.6516871452331543, 1.2877261638641357, -1.0240461826324463, 0.1497618705034256, -1.1121927499771118, 0.33817970752716064, 0.11446254700422287, -0.5561966896057129, 0.5145543217658997, 0.8094280362129211, -0.5287083387374878, 1.3006141185760498, 0.04881914705038071, -0.8715271353721619, -1.6823070049285889, -0.36484017968177795, 0.630538821220398, -0.15053847432136536, -0.6290673613548279, -0.5058378577232361, 0.7327326536178589, 0.04427481070160866, -0.5021842122077942, -0.2168092131614685, 0.6454708576202393, 1.1176222562789917, 1.155116319656372, 0.09897767752408981, 0.14882123470306396, -0.9997838735580444, 0.11910472810268402, -0.9578173756599426, 0.722137987613678, -0.6421116590499878, -0.02296125702559948, -0.06926631182432175, 0.3268245458602905, -0.9067118763923645, -1.2291531562805176, 0.20733651518821716, 0.046662501990795135, -0.006503143347799778, -0.876168966293335, -0.8784481287002563, 1.1316580772399902, 0.6615070700645447, 0.09230341762304306, -0.02813420072197914, -0.4038797914981842, 1.4705320596694946, -0.8033053874969482, -0.41788288950920105, -0.7300269603729248, -0.17091232538223267, 0.37800145149230957, -0.9167256355285645, -1.4079885482788086, 0.7203450798988342, 1.4536770582199097, -0.22653502225875854, -0.13058529794216156, -0.30597975850105286, -1.470933198928833, 0.5518057942390442, -0.7119384407997131, -0.4023902416229248, 0.831000804901123, 0.08529315888881683, -0.7167754173278809, -1.3295668363571167, 0.2163745015859604, 0.11223622411489487, 0.8323572874069214, 1.1676353216171265, 0.40008169412612915, 0.8571071028709412, 0.22944681346416473, 0.5222005248069763, -0.604282557964325, -0.9674815535545349, 0.11903013288974762, -0.5299472808837891, -0.45764273405075073, 1.3503868579864502, 0.2934769093990326, 1.4614872932434082, -1.372733235359192, -0.3639913499355316, 0.485972136259079, 0.7713697552680969, 1.0688916444778442, -0.8567626476287842, -0.12066355347633362, 1.2449325323104858, -0.3480754792690277, 0.35673585534095764, -0.17527954280376434, -0.4130585491657257, 0.08996012061834335, -0.12053362280130386, 0.4848932921886444, -1.1291618347167969, -0.20124949514865875, 0.31143805384635925, 0.02330688387155533, 0.6648533344268799, 0.2857150733470917, -1.0919816493988037, -2.0141005516052246, -1.0158249139785767, -1.0599983930587769, -0.13426390290260315, 0.9920223951339722, -1.5058239698410034, 1.1110996007919312, 0.21969184279441833, -1.237065076828003, 0.6658351421356201, 0.6234256625175476, 0.3121093511581421, -1.7230597734451294, 1.003340482711792, 0.609229326248169, 0.6105542182922363, 0.02970009855926037, 0.20036368072032928, 0.9817286133766174, -0.3225681781768799, 1.190973162651062, 0.7010356187820435, -0.9096323251724243, -0.42491471767425537, -0.308618426322937, -0.7244257926940918, 0.525101900100708, -0.46154001355171204, 0.08663398772478104, -0.33893460035324097, -0.3263949453830719, -0.273654043674469, 0.4788927733898163, 0.7671422958374023, 1.2068887948989868, 0.7890884280204773, 0.9238786101341248, -0.08471555262804031, -0.26018327474594116, 1.415738582611084, -0.5321744680404663, 0.9538580775260925, -0.12711647152900696, -0.22810079157352448, -1.1933616399765015, -0.40707501769065857, -0.5804610252380371, -0.04150519147515297, 0.7496348023414612, -1.3690059185028076, 0.0750432088971138, -0.509773850440979, 0.2681843638420105, -0.8852323293685913, 0.08950859308242798, -1.4545915126800537, -0.32291510701179504, -0.08558904379606247, 0.9370421767234802, 0.041296932846307755, -0.34490448236465454, -0.3322802484035492, -0.033618371933698654, -0.7976148724555969, 0.8914898633956909, -0.6526320576667786, -1.4985580444335938, -0.03215111047029495, -1.4734266996383667, -0.6104912161827087, -1.1330875158309937, 0.03451165556907654, 1.578561544418335, 0.3458520472049713, -0.9602683782577515, 1.4051575660705566, -1.2083414793014526, 0.13880468904972076, 0.8408336043357849, -0.45687082409858704, -0.6406749486923218, -0.590279757976532, -0.5883510112762451, 0.39377036690711975, 0.4477066099643707, 0.2859567403793335, -0.7240185141563416, 0.21453288197517395, -0.29152682423591614, -0.02082073502242565, 0.5242124795913696, 0.34359824657440186, -1.3098689317703247, 0.4989892244338989, 1.1075479984283447, 0.3958454430103302, -0.5860046744346619, 0.19535765051841736, -0.8666258454322815, 1.6192097663879395, 1.3269450664520264, 0.5419961214065552, -0.12619908154010773, 0.14116378128528595, -0.4132072925567627, 0.8711837530136108, -0.000938129611313343, -0.9413400888442993, -1.144343376159668, -0.20486722886562347, 0.08623280376195908, 1.8024104833602905, 0.29821082949638367, -0.1962384730577469, -0.23494179546833038, 0.12397268414497375, 0.13431783020496368, 0.11771799623966217, 0.2806656062602997, 0.8383501172065735, -0.5005938410758972, -0.8953850269317627, -0.588158905506134, 0.6893903613090515, 0.8570460677146912, 1.958756923675537, -0.12530332803726196, -0.35383927822113037, -0.36090928316116333, 0.6567143797874451, 0.0007219345425255597, -0.5268633365631104, 0.4446759521961212, 0.8303527235984802, -0.8207880258560181, 0.738477349281311, 0.6148119568824768, 0.3067662715911865, 1.4732353687286377, 0.28064852952957153, 0.06993623822927475, -0.37089887261390686, 0.3340078592300415, -0.8185272216796875, -0.557809054851532, -0.195408895611763, -0.7698169350624084, 0.7661449313163757, 1.6273025274276733, -0.7848484516143799, 0.6313760876655579, -0.4487375319004059, -1.3453068733215332, -0.9422891139984131, -0.2617324888706207, -0.15048684179782867, 0.055969417095184326, 0.555113673210144, 0.4602215886116028, 0.6806624531745911, 0.5529539585113525, -0.8319339752197266, -1.1970516443252563, -0.15896348655223846, 0.1293637603521347, 0.9176797866821289, -1.12775456905365, -0.12185398489236832, -0.2562018036842346, -0.45198896527290344, -0.29198041558265686, 0.5852360725402832, -0.3919955790042877, -0.012070046737790108, -0.2800656259059906, -0.0667024776339531, 0.15154409408569336, 0.5220128297805786, -0.34962722659111023, 0.5332997441291809, 1.0532876253128052, -0.23213012516498566, 0.3506168723106384, 1.1690387725830078, 0.022929230704903603, -0.2722350060939789, -0.8667386770248413, -1.6719847917556763, 0.515998899936676, -0.7589012384414673, -0.14296525716781616, 0.3199926018714905, 0.19438591599464417, 1.1107077598571777, -0.2081841677427292, 0.31815820932388306, 0.26412346959114075, -1.025349497795105, 1.3632118701934814, -0.5640802979469299, -0.5028398036956787, 0.36691731214523315, -0.6568251252174377, -0.5986713171005249, 0.5076722502708435, 0.16597668826580048, -0.29094284772872925, 1.6432901620864868, 0.6095982789993286, 0.25907203555107117, 0.9125686287879944, -0.3909136652946472, -0.710979700088501, 0.9713577628135681, 0.9726434946060181, -0.33233940601348877, -0.5827538967132568, 1.3260210752487183, 0.17052209377288818, -0.898967444896698, 0.3836956024169922, 0.19841334223747253, 0.1597432941198349, 0.7224981784820557, -1.015428066253662, -1.497926115989685, 0.08591542392969131, -0.474225789308548, -0.5981923341751099, 1.743486762046814, -0.9285045862197876, -0.08213534951210022, -0.5193997621536255, -0.1477997899055481, 0.456098735332489, -0.3335460126399994, -1.1865192651748657, -1.3262348175048828, 0.4334836006164551, -0.07658056169748306, 0.8646002411842346, 2.0331239700317383, -0.27564629912376404, 1.587637186050415, 0.45779338479042053, 0.20111343264579773, 0.13940605521202087, -0.5998251438140869, 0.38132938742637634, -0.12486695498228073, -0.4653165340423584, -0.15613317489624023, -0.7644897103309631, -0.07164079695940018, 0.24274972081184387, -0.42679649591445923, -1.0093865394592285, -1.7811081409454346, -0.5625324845314026, 0.9376130700111389, -0.7391674518585205, 0.07645497471094131, 0.42883968353271484, 0.5029948949813843, 0.6506419777870178, -0.3311082720756531, -0.7901167273521423, 0.6959878206253052, -0.12959517538547516, -1.0582693815231323, 0.2681760787963867, 0.08194296807050705, -0.7486545443534851, 0.19047929346561432, 0.28026390075683594, -0.07376523315906525, -1.2439913749694824, -0.37538570165634155, -1.2691736221313477, -0.23723676800727844, 0.40989601612091064, 1.1443458795547485, -1.0959229469299316, 0.6607734560966492, 0.696773886680603, 0.8048703670501709, 0.31846046447753906, -0.46485549211502075, 0.20297500491142273, 0.5640954375267029, -0.2746938169002533, -1.1871984004974365, -0.811386227607727, 0.058873821049928665, -0.5602507591247559, 1.5450057983398438, -0.6362934708595276, 0.8252580165863037, -1.3176435232162476, -1.2923997640609741, -0.8613272309303284, 1.0337533950805664, -0.14608410000801086, 2.2479405403137207, 0.39279454946517944, -0.46067965030670166, -0.6731901168823242, 0.2260800302028656, 1.254942774772644, -0.5245606899261475, 1.1225032806396484, 0.06333447247743607, -0.4010866582393646, -1.5067312717437744, 0.006362052168697119, -0.3991345763206482, 0.26228898763656616, -1.160707950592041, 0.9987500905990601, 0.4360794126987457, 0.03403760865330696, -0.44539669156074524, 0.14628823101520538, 0.12640582025051117, -0.5606100559234619, 1.1385235786437988, 1.6757009029388428, 1.3123589754104614, 0.6602025032043457, 1.3742191791534424, 0.24101170897483826, -0.1729709357023239, -1.5251096487045288, -0.6731797456741333, -1.1657403707504272, 0.15894250571727753, -0.5765354633331299, -1.7542024850845337, -0.02996550127863884, 0.9279584288597107, 0.2597699463367462, -1.0948978662490845, 1.690506100654602, 0.39023202657699585, -0.898838996887207, 0.013429062440991402, 1.0450019836425781, -1.0691848993301392, 0.23883065581321716, 0.9828410744667053, -0.8774507641792297, 0.24376720190048218, -1.5645537376403809, -0.6250107884407043, 1.2524365186691284, 0.03826281055808067, 0.6303887367248535, 0.27123183012008667, -0.2041751891374588, -0.5443052053451538, 0.16260647773742676, 0.9011869430541992, -0.37323588132858276, -0.6715804934501648, -0.6183033585548401, -0.054517053067684174, -1.137561559677124, 0.2730018198490143, -1.529200553894043, -0.03971540182828903, -0.9890665411949158, 0.1523577719926834, 0.041754864156246185, 0.7356238961219788, 0.08091717213392258, 0.2906951308250427, 0.3847491443157196, -1.2130742073059082, 0.8108452558517456, -0.34502899646759033, 0.9587210416793823, 0.697952926158905, 0.7741559147834778, -0.2942263185977936, -0.7545400261878967, 0.596259355545044, -0.8608614802360535, -0.3225944936275482, 0.2166355401277542, 0.8423423171043396, 0.8752068877220154, 0.0010818951996043324, 1.3264552354812622, 0.8162218332290649, -0.26383957266807556, -0.09838088601827621, -0.9482381343841553, 0.9553108811378479, 0.2862947881221771, 0.8298877477645874, 0.8238554000854492, -1.087979793548584, 0.054151393473148346, -0.3807949721813202, -1.0073777437210083, 0.4722212553024292, -1.2349001169204712, 0.6538532972335815, -0.5477093458175659, -0.48188507556915283, 0.15327002108097076, -0.17099007964134216, 2.423200845718384, -0.5127352476119995, -0.30277276039123535, 0.28942811489105225, -0.6409782767295837, -0.8538079857826233, 0.8350042104721069, -0.7391008138656616, 0.5962165594100952, 0.2048572599887848, 0.5368818044662476, -0.7839444279670715, -1.1082673072814941, 0.2969430387020111, 0.30818748474121094, -0.31686100363731384, -0.7535226941108704, 0.2958172559738159, -0.8063237071037292, -0.567269504070282, 1.1522201299667358, 0.8216157555580139, -1.068769097328186, -1.1445980072021484, 0.6629539728164673, 0.3577600121498108, -0.2909700870513916, 0.07593269646167755, 0.12800133228302002, 0.3833991289138794, -0.8327759504318237, 0.6506543159484863, -0.749138593673706, -1.0399912595748901, -0.7717845439910889]\n"
     ]
    }
   ],
   "source": [
    "from langchain_community.embeddings import OllamaEmbeddings\n",
    "\n",
    "embeddings = OllamaEmbeddings(model=\"nomic-embed-text\")  # 或其他支援 embedding 的模型\n",
    "print(embeddings.embed_query(\"What's our Q1 revenue?\"))\n"
   ]
  },
  {
   "cell_type": "markdown",
   "metadata": {
    "id": "NGs95kWwAlev"
   },
   "source": [
    "## 4.5 Vector Database\n",
    "\n",
    "In this tutorial, for the sake of convenience and speed, we will directly use RAM as the storage location for vector data."
   ]
  },
  {
   "cell_type": "code",
   "execution_count": 25,
   "metadata": {
    "executionInfo": {
     "elapsed": 1,
     "status": "ok",
     "timestamp": 1740965140799,
     "user": {
      "displayName": "陳澔恩",
      "userId": "15461641377888815199"
     },
     "user_tz": -480
    },
    "id": "BMmzmhcEMy_2"
   },
   "outputs": [],
   "source": [
    "from langchain_core.vectorstores import InMemoryVectorStore\n",
    "\n",
    "vector_store = InMemoryVectorStore(embeddings)"
   ]
  },
  {
   "cell_type": "markdown",
   "metadata": {
    "id": "vO65V7e5At2s"
   },
   "source": [
    "## 4.6 Save embedding into Vector DB"
   ]
  },
  {
   "cell_type": "code",
   "execution_count": 26,
   "metadata": {
    "executionInfo": {
     "elapsed": 656,
     "status": "ok",
     "timestamp": 1740965141456,
     "user": {
      "displayName": "陳澔恩",
      "userId": "15461641377888815199"
     },
     "user_tz": -480
    },
    "id": "UpIpIL3sSCYr"
   },
   "outputs": [],
   "source": [
    "# Index chunks\n",
    "_ = vector_store.add_documents(documents=all_splits)"
   ]
  },
  {
   "cell_type": "markdown",
   "metadata": {
    "id": "Ha267eVgGmJy"
   },
   "source": [
    "## 4.7 Define Prompt\n",
    "\n",
    "This prompt is used in the generation stage of RAG, providing instructions to the LLM to generate a coherent and fluent response."
   ]
  },
  {
   "cell_type": "code",
   "execution_count": 27,
   "metadata": {
    "colab": {
     "base_uri": "https://localhost:8080/"
    },
    "executionInfo": {
     "elapsed": 261,
     "status": "ok",
     "timestamp": 1740965141719,
     "user": {
      "displayName": "陳澔恩",
      "userId": "15461641377888815199"
     },
     "user_tz": -480
    },
    "id": "y8KJZ3gBGodi",
    "outputId": "115aeaba-6cd1-4fb3-d117-eb2062b496df"
   },
   "outputs": [
    {
     "name": "stderr",
     "output_type": "stream",
     "text": [
      "c:\\Users\\c1091\\anaconda3\\envs\\llmrag\\lib\\site-packages\\langsmith\\client.py:261: LangSmithMissingAPIKeyWarning: API key must be provided when using hosted LangSmith API\n",
      "  warnings.warn(\n"
     ]
    },
    {
     "name": "stdout",
     "output_type": "stream",
     "text": [
      "You are an assistant for question-answering tasks. Use the following pieces of retrieved context to answer the question. If you don't know the answer, just say that you don't know. Use three sentences maximum and keep the answer concise.\n",
      "Question: (question goes here) \n",
      "Context: (context goes here) \n",
      "Answer:\n"
     ]
    }
   ],
   "source": [
    "# Define prompt for question-answering\n",
    "from langchain import hub\n",
    "\n",
    "prompt = hub.pull(\"rlm/rag-prompt\")\n",
    "\n",
    "example_messages = prompt.invoke(\n",
    "    {\"context\": \"(context goes here)\", \"question\": \"(question goes here)\"}\n",
    ").to_messages()\n",
    "\n",
    "assert len(example_messages) == 1\n",
    "print(example_messages[0].content)"
   ]
  },
  {
   "cell_type": "markdown",
   "metadata": {
    "id": "X409ZJs_Gr8J"
   },
   "source": [
    "## 4.8 Building RAG Workflow\n",
    "\n",
    "The RAG we are building will primarily consist of two steps: Retrieval and Generation.\n",
    "\n",
    " - **Retrieval:** The question is used to perform a vector search, retrieving the most semantically relevant sub-documents from the previously created sub-documents.\n",
    "\n",
    " - **Generation:** The content of the retrieved sub-documents is provided to the LLM, which generates a complete answer based on the question."
   ]
  },
  {
   "cell_type": "code",
   "execution_count": 28,
   "metadata": {
    "executionInfo": {
     "elapsed": 209,
     "status": "ok",
     "timestamp": 1740965141927,
     "user": {
      "displayName": "陳澔恩",
      "userId": "15461641377888815199"
     },
     "user_tz": -480
    },
    "id": "D8oxnd9FGugB"
   },
   "outputs": [],
   "source": [
    "from langchain_core.documents import Document\n",
    "from typing_extensions import List, TypedDict\n",
    "\n",
    "from langgraph.graph import START, StateGraph\n",
    "\n",
    "# Define state for application\n",
    "class State(TypedDict):\n",
    "    question: str\n",
    "    context: List[Document]\n",
    "    answer: str\n",
    "\n",
    "\n",
    "# Define application steps\n",
    "def retrieve(state: State):\n",
    "    retrieved_docs = vector_store.similarity_search(state[\"question\"])\n",
    "    return {\"context\": retrieved_docs}\n",
    "\n",
    "\n",
    "def generate(state: State):\n",
    "    docs_content = \"\\n\\n\".join(doc.page_content for doc in state[\"context\"])\n",
    "    messages = prompt.invoke({\"question\": state[\"question\"], \"context\": docs_content})\n",
    "    response = llm.invoke(messages)\n",
    "    return {\"answer\": response.content}\n",
    "\n",
    "\n",
    "# Compile application and test\n",
    "graph_builder = StateGraph(State).add_sequence([retrieve, generate])\n",
    "graph_builder.add_edge(START, \"retrieve\")\n",
    "graph = graph_builder.compile()"
   ]
  },
  {
   "cell_type": "markdown",
   "metadata": {
    "id": "DhC2Zti_YTD0"
   },
   "source": [
    "## 4.9 Done! Let's try it!"
   ]
  },
  {
   "cell_type": "markdown",
   "metadata": {
    "id": "Co_I7w8jGz0U"
   },
   "source": [
    "### 4.9.1 Some question you can try\n",
    "\n",
    "```plaintext\n",
    "Who was elected the 47th president of the United States?\n",
    "```\n",
    "\n",
    "```plaintext\n",
    "What is the purpose of Trump's proposed tariffs on Taiwanese semiconductors?\n",
    "```\n",
    "\n",
    "```plaintext\n",
    "What is DeepSeek, and why is it significant in the AI sector?\n",
    "```\n",
    "\n",
    "```plaintext\n",
    "What impact has DeepSeek’s success had on big tech companies like Nvidia?\n",
    "```"
   ]
  },
  {
   "cell_type": "code",
   "execution_count": 29,
   "metadata": {
    "colab": {
     "base_uri": "https://localhost:8080/"
    },
    "executionInfo": {
     "elapsed": 999,
     "status": "ok",
     "timestamp": 1740965142927,
     "user": {
      "displayName": "陳澔恩",
      "userId": "15461641377888815199"
     },
     "user_tz": -480
    },
    "id": "Gfg4i1K5G4N9",
    "outputId": "a8770fa5-3810-4a66-ed0b-9e1e0e2b261c"
   },
   "outputs": [
    {
     "name": "stdout",
     "output_type": "stream",
     "text": [
      "Donald Trump was elected the 47th president of the United States. He secured 71,289,216 votes nationwide, representing 51 percent of the total. This victory marked a historic comeback for the former president, who had previously been convicted of felony charges.\n"
     ]
    }
   ],
   "source": [
    "response = graph.invoke({\"question\": \"Who was elected the 47th president of the United States?\"})\n",
    "print(response[\"answer\"])"
   ]
  },
  {
   "cell_type": "markdown",
   "metadata": {
    "id": "6bBrzq80SaVn"
   },
   "source": [
    "### 4.9.2 Trying harder question\n",
    "\n",
    "This RAG we built is quite smart; you can try more questions in the `news-QA-dataset.json` file.\n",
    "\n",
    "#### About 2024 Asian Baseball Championship Final\n",
    "\n",
    "```plaintext\n",
    "What was the score of Taiwan’s loss to South Korea in division B?\n",
    "```\n",
    "\n",
    "```plaintext\n",
    "What action by South Korea’s pitcher allowed Su Yu-hsiang to steal second base in the final?\n",
    "```"
   ]
  },
  {
   "cell_type": "code",
   "execution_count": 14,
   "metadata": {
    "colab": {
     "base_uri": "https://localhost:8080/"
    },
    "executionInfo": {
     "elapsed": 766,
     "status": "ok",
     "timestamp": 1740965143700,
     "user": {
      "displayName": "陳澔恩",
      "userId": "15461641377888815199"
     },
     "user_tz": -480
    },
    "id": "DBvwKkhGTBdD",
    "outputId": "f306200c-5daf-41c5-964e-69b9d054ff0a"
   },
   "outputs": [
    {
     "name": "stdout",
     "output_type": "stream",
     "text": [
      "Taiwan lost to South Korea 0-1 in division B of the U-12 Asian Baseball Championship. However, Taiwan later defeated South Korea 5-1 in the final to win the championship. It was Taiwan's eighth championship in total.\n"
     ]
    }
   ],
   "source": [
    "response = graph.invoke({\"question\": \"What was the score of Taiwan’s loss to South Korea in division B?\"})\n",
    "print(response[\"answer\"])"
   ]
  },
  {
   "cell_type": "markdown",
   "metadata": {
    "id": "94rI1kgnqdrG"
   },
   "source": [
    "# 5.RAG Use Case Overview\n",
    "\n",
    "At this stage, we have successfully enabled the LLM to access the database we created and respond to queries based on the retrieved data.\n",
    "\n",
    "However, for **public data** such as news searches, implementing RAG is not always necessary. Existing LLM products, such as ChatGPT, already integrate web search functionalities, allowing them to directly retrieve real-time public information.\n",
    "\n",
    "### Key Insight: When to Use RAG\n",
    "The **primary use case for RAG** lies in handling **enterprise data** or **offline data**. These types of **non-public data** are more suitable for RAG as a supplementary source for LLMs."
   ]
  },
  {
   "cell_type": "markdown",
   "metadata": {
    "id": "7w_sgN-9sXuI"
   },
   "source": [
    "# 6.Enable Web Search Functionalities"
   ]
  },
  {
   "cell_type": "code",
   "execution_count": 35,
   "metadata": {},
   "outputs": [],
   "source": [
    "#  pip install -U duckduckgo-search"
   ]
  },
  {
   "cell_type": "markdown",
   "metadata": {},
   "source": [
    "## 6.1 Building Search-Enabled Agent  \n",
    "Integrate a local LLM (Gemma3 via Ollama) with the DuckDuckGo Search tool to enable real-time web search functionalities."
   ]
  },
  {
   "cell_type": "code",
   "execution_count": null,
   "metadata": {},
   "outputs": [],
   "source": [
    "from langchain.agents import initialize_agent, Tool\n",
    "from langchain_community.tools import DuckDuckGoSearchRun\n",
    "from langchain_community.chat_models import ChatOllama\n",
    "\n",
    "# Create a local Gemma model\n",
    "llm = ChatOllama(\n",
    "    model=\"gemma3\",\n",
    "    temperature=1.0,\n",
    "    max_tokens=1024,\n",
    "    base_url=\"http://localhost:11434\",\n",
    "    timeout=30,\n",
    "    max_retries=2,\n",
    ")\n",
    "\n",
    "# Original DuckDuckGo Tool\n",
    "raw_search = DuckDuckGoSearchRun()\n",
    "\n",
    "# Add a custom tool function for \"no data record\"\n",
    "def safe_duckduckgo_search(query: str) -> str:\n",
    "    result = raw_search.run(query)\n",
    "    if not result.strip():\n",
    "        return \"查無結果，無法回答。\"\n",
    "    return result\n",
    "\n",
    "# Setting tool list\n",
    "tools = [\n",
    "    Tool(\n",
    "        name=\"DuckDuckGo Safe Search\",\n",
    "        func=safe_duckduckgo_search,\n",
    "        description=\"用於即時搜尋問題答案，例如時事、股價、法律條文等\"\n",
    "    )\n",
    "]\n",
    "\n",
    "# Initialize Agent\n",
    "agent = initialize_agent(\n",
    "    tools,\n",
    "    llm,\n",
    "    agent=\"zero-shot-react-description\",\n",
    "    verbose=True,\n",
    ")\n"
   ]
  },
  {
   "cell_type": "markdown",
   "metadata": {
    "id": "bQPFpZBhrsAY"
   },
   "source": [
    "## 6.2 Local Agent Now Performs Web Searches Before Answering\n",
    "\n",
    "With the DuckDuckGo tool, our local LLM (Gemma3) now performs real-time web searches instead of fabricating answers.\n",
    "\n",
    "This demonstrates the core benefit of RAG: to **significantly reduce hallucinations**.\n"
   ]
  },
  {
   "cell_type": "code",
   "execution_count": 39,
   "metadata": {
    "colab": {
     "base_uri": "https://localhost:8080/"
    },
    "executionInfo": {
     "elapsed": 1630,
     "status": "ok",
     "timestamp": 1740965153992,
     "user": {
      "displayName": "陳澔恩",
      "userId": "15461641377888815199"
     },
     "user_tz": -480
    },
    "id": "YvFtzmICwtPd",
    "outputId": "71d6ad16-9132-4fde-a7f6-37de3ee3bc44"
   },
   "outputs": [
    {
     "name": "stdout",
     "output_type": "stream",
     "text": [
      "\n",
      "\n",
      "\u001b[1m> Entering new AgentExecutor chain...\u001b[0m\n",
      "\u001b[32;1m\u001b[1;3mI need to find the content of Article 1226 of the Civil Code of the People's Republic of China. I will use DuckDuckGo Safe Search to perform this task.\n",
      "Action: DuckDuckGo Safe Search\n",
      "Action Input: 中華民國民法第1226條\u001b[0m"
     ]
    },
    {
     "name": "stderr",
     "output_type": "stream",
     "text": [
      "c:\\Users\\c1091\\anaconda3\\envs\\llmrag\\lib\\site-packages\\langchain_community\\utilities\\duckduckgo_search.py:64: UserWarning: backend='api' is deprecated, using backend='auto'\n",
      "  ddgs_gen = ddgs.text(\n"
     ]
    },
    {
     "name": "stdout",
     "output_type": "stream",
     "text": [
      "\n",
      "Observation: \u001b[36;1m\u001b[1;3m中華民國九十年五月九日 （本聲請書其餘附件略） 參考法條：中華民國憲法 第 22、23 條 (36.01.01) 民法 第 985、988、1050、1052、1056、1057 條 (91.06.26) 民事訴訟法 第 640 條 (89.02.09) 臺灣地區與大陸地區人民關係條例 第 64 條 (91.04.24) 資料來源： 民法 (民國 91 年 06 月 26 日) 非現行: 第 249 條: 定金，除當事人另有訂定外，適用左列之規定： 一 契約履行時，定金應返還或作為給付之一部。 二 契約因可歸責於付定金當事人之事由，致不能履行時，定金不得請求 返還。 三 契約因可歸責於受定金當事人之 ... 根據中華民國民法第365條的規定，買賣契約中關於瑕疵擔保請求權的時效有兩種： 短期時效： 買受人應於發現瑕疵後六個月內，向出賣人主張瑕疵擔保責任。此處的「發現」指的是買受人「實際知悉」瑕疵的存在，而非「可能或應知悉」。 二、本條配合第1003條之1之增訂 民法, 民法1026, 家庭生活費用, 生活費用, 負擔, 支付能力, 財產 所在編章︰ 第四編 親屬\\第二章 婚姻\\第四節 夫妻財產制\\第二款 法定財產制（§1016~1030之4） 立法沿革︰ 19.12.26制定公布91.06.26修正公布 民法第1026條（刪除）（91.06.26 ... 听《《民法典》天天见!》上小宇宙。 与朋友们共同学习《民法典》，还有其他普法播客供选择，感兴趣可自行订阅。如需法律咨询可添加微信lawforalawyer，添加时请务必备注地区和案情，谢谢!\u001b[0m\n",
      "Thought:\u001b[32;1m\u001b[1;3mThought: The provided text contains a large amount of information about the Civil Code of the People's Republic of China, including references to other articles and related laws. However, it doesn't explicitly state the content of Article 1226. It seems that the text is a summary and introduction to the Civil Code, possibly from a legal education platform. To accurately answer the question, I need to find the actual text of Article 1226. I will use DuckDuckGo Safe Search to find the content of this article.\n",
      "Action: DuckDuckGo Safe Search\n",
      "Action Input: 中華民國民法第1226條\u001b[0m"
     ]
    },
    {
     "name": "stderr",
     "output_type": "stream",
     "text": [
      "c:\\Users\\c1091\\anaconda3\\envs\\llmrag\\lib\\site-packages\\langchain_community\\utilities\\duckduckgo_search.py:64: UserWarning: backend='api' is deprecated, using backend='auto'\n",
      "  ddgs_gen = ddgs.text(\n"
     ]
    },
    {
     "name": "stdout",
     "output_type": "stream",
     "text": [
      "\n",
      "Observation: \u001b[36;1m\u001b[1;3m什麼是民律草案？ 《大清民律草案》是中國第一部近代民法典的草案。它於1910年完成，分為總則、債權、物權、親屬、繼承五編，共1596條。雖然因清朝覆亡而未及施行，但對中華民國《民法》的制定產生了深遠影響。 草案的歷史背景與意義 清末法制改革的產物：... 離婚財產分配是指在婚姻解除時，對夫妻共同財產進行合理分配的過程，依據《中華民國民法》第1058條規定，離婚時夫妻的共同財產應依照公平原則進行分配，法院考量雙方對家庭貢獻度及其他相關因素考量。 ... 深入分析113年度交簡字第1226號案件：詳細探討公共危險及其廣泛的法律後果。本頁面不僅提供案件的詳細審理過程，還深入解析相關法律條文，揭示這一判決對台灣司法制度的重大貢獻。這是法律專業人士、學者，以及對此類重要案件感興趣的公眾的理想資源，幫助您全面了解案件背景、法律脈絡 ... 听《《民法典》天天见!》上小宇宙。 与朋友们共同学习《民法典》，还有其他普法播客供选择，感兴趣可自行订阅。如需法律咨询可添加微信lawforalawyer，添加时请务必备注地区和案情，谢谢! 財政部臺北國稅局表示，依 遺產及贈與稅法第15條規定， 被繼承人死亡前2年內將財產贈與 配偶、民法第1138條及第1140條規定之各順序繼承人（即被繼承人之直系血親卑親屬、父母、兄弟姊妹及祖父母；直系血親卑親屬於繼承開始前死亡或喪失繼承權者，由其直系血親卑親屬代位繼承其應繼分）或該 ...\u001b[0m\n",
      "Thought:\u001b[32;1m\u001b[1;3mThe provided text does not contain the content of Article 1226 of the Civil Code of the People's Republic of China. It primarily discusses the Qing Civil Code draft, divorce property distribution, and inheritance laws. I've exhausted searching with DuckDuckGo Safe Search.\n",
      "\n",
      "Final Answer: I'm sorry, I cannot answer your question. The provided text does not contain the content of Article 1226 of the Civil Code of the People's Republic of China.\u001b[0m\n",
      "\n",
      "\u001b[1m> Finished chain.\u001b[0m\n",
      "I'm sorry, I cannot answer your question. The provided text does not contain the content of Article 1226 of the Civil Code of the People's Republic of China.\n"
     ]
    }
   ],
   "source": [
    "response = agent.run(\"中華民國民法第1226條的內容是什麼？\")\n",
    "print(response)\n"
   ]
  }
 ],
 "metadata": {
  "colab": {
   "provenance": []
  },
  "kernelspec": {
   "display_name": "llmrag",
   "language": "python",
   "name": "python3"
  },
  "language_info": {
   "codemirror_mode": {
    "name": "ipython",
    "version": 3
   },
   "file_extension": ".py",
   "mimetype": "text/x-python",
   "name": "python",
   "nbconvert_exporter": "python",
   "pygments_lexer": "ipython3",
   "version": "3.10.16"
  }
 },
 "nbformat": 4,
 "nbformat_minor": 0
}
